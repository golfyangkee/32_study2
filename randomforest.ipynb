{
 "cells": [
  {
   "cell_type": "code",
   "execution_count": 1,
   "id": "8832f7cd",
   "metadata": {},
   "outputs": [],
   "source": [
    "import pandas as pd\n",
    "from sklearn.model_selection import train_test_split\n",
    "from sklearn import model_selection\n",
    "from sklearn.metrics import accuracy_score\n",
    "import mglearn \n",
    "import matplotlib.pyplot as plt\n",
    "from sklearn.preprocessing import LabelEncoder\n",
    "import numpy as np\n",
    "import seaborn as sns\n",
    "from sklearn.metrics import f1_score, confusion_matrix"
   ]
  },
  {
   "cell_type": "markdown",
   "id": "7eaf1ac6",
   "metadata": {},
   "source": [
    "# 데이터 EDA"
   ]
  },
  {
   "cell_type": "markdown",
   "id": "2bbbc69f",
   "metadata": {},
   "source": [
    "### 데이터 불러오기"
   ]
  },
  {
   "cell_type": "code",
   "execution_count": 2,
   "id": "2cb8a797",
   "metadata": {},
   "outputs": [],
   "source": [
    "df = pd.read_csv('./data/final_dataset.csv', encoding='EUC-KR') # 각자 경로 따라 수정. 인코딩 필요없을수도있음"
   ]
  },
  {
   "cell_type": "markdown",
   "id": "e80e0b89",
   "metadata": {},
   "source": [
    "### 데이터 기초 정보 확인"
   ]
  },
  {
   "cell_type": "code",
   "execution_count": 3,
   "id": "b1a26867",
   "metadata": {},
   "outputs": [
    {
     "data": {
      "text/plain": [
       "(14810, 16)"
      ]
     },
     "execution_count": 3,
     "metadata": {},
     "output_type": "execute_result"
    }
   ],
   "source": [
    "df.shape  # 전체 900행으로 나타남"
   ]
  },
  {
   "cell_type": "code",
   "execution_count": 4,
   "id": "3c062b82",
   "metadata": {},
   "outputs": [
    {
     "name": "stdout",
     "output_type": "stream",
     "text": [
      "<class 'pandas.core.frame.DataFrame'>\n",
      "RangeIndex: 14810 entries, 0 to 14809\n",
      "Data columns (total 16 columns):\n",
      " #   Column  Non-Null Count  Dtype \n",
      "---  ------  --------------  ----- \n",
      " 0   기업명     14810 non-null  object\n",
      " 1   지원분야    13779 non-null  object\n",
      " 2   학교      14810 non-null  object\n",
      " 3   전공      12563 non-null  object\n",
      " 4   학점      14810 non-null  object\n",
      " 5   토익      14810 non-null  object\n",
      " 6   오픽      14810 non-null  object\n",
      " 7   토스      14810 non-null  object\n",
      " 8   자격증     14809 non-null  object\n",
      " 9   연수      14810 non-null  object\n",
      " 10  봉사      14810 non-null  object\n",
      " 11  인턴      14810 non-null  object\n",
      " 12  업종      14810 non-null  object\n",
      " 13  업종분류    14810 non-null  int64 \n",
      " 14  기업규모    14810 non-null  object\n",
      " 15  규모분류    14810 non-null  int64 \n",
      "dtypes: int64(2), object(14)\n",
      "memory usage: 1.8+ MB\n"
     ]
    }
   ],
   "source": [
    "df.info() \n",
    "# 학점 ~ 봉사까지 전부 int나 float이 아닌 object인 것을 확인할 수 있음. 이는 점수 뒤에 붙은 조사 때문으로 보임\n",
    "# 학점은 float, 나머지는 int로 변환할 필요가 있음\n",
    "\n",
    "# 또한 14811이 아닌 열이 일부 관측됨. 지원분야, 학교, 전공, 자격증 분야에 대한 구체적 확인이 필요함"
   ]
  },
  {
   "cell_type": "code",
   "execution_count": 5,
   "id": "391acbf7",
   "metadata": {},
   "outputs": [
    {
     "data": {
      "text/html": [
       "<div>\n",
       "<style scoped>\n",
       "    .dataframe tbody tr th:only-of-type {\n",
       "        vertical-align: middle;\n",
       "    }\n",
       "\n",
       "    .dataframe tbody tr th {\n",
       "        vertical-align: top;\n",
       "    }\n",
       "\n",
       "    .dataframe thead th {\n",
       "        text-align: right;\n",
       "    }\n",
       "</style>\n",
       "<table border=\"1\" class=\"dataframe\">\n",
       "  <thead>\n",
       "    <tr style=\"text-align: right;\">\n",
       "      <th></th>\n",
       "      <th>업종분류</th>\n",
       "      <th>규모분류</th>\n",
       "    </tr>\n",
       "  </thead>\n",
       "  <tbody>\n",
       "    <tr>\n",
       "      <th>count</th>\n",
       "      <td>14810.000000</td>\n",
       "      <td>14810.000000</td>\n",
       "    </tr>\n",
       "    <tr>\n",
       "      <th>mean</th>\n",
       "      <td>10.605334</td>\n",
       "      <td>2.145037</td>\n",
       "    </tr>\n",
       "    <tr>\n",
       "      <th>std</th>\n",
       "      <td>5.317740</td>\n",
       "      <td>1.137411</td>\n",
       "    </tr>\n",
       "    <tr>\n",
       "      <th>min</th>\n",
       "      <td>1.000000</td>\n",
       "      <td>1.000000</td>\n",
       "    </tr>\n",
       "    <tr>\n",
       "      <th>25%</th>\n",
       "      <td>7.000000</td>\n",
       "      <td>1.000000</td>\n",
       "    </tr>\n",
       "    <tr>\n",
       "      <th>50%</th>\n",
       "      <td>11.000000</td>\n",
       "      <td>2.000000</td>\n",
       "    </tr>\n",
       "    <tr>\n",
       "      <th>75%</th>\n",
       "      <td>14.000000</td>\n",
       "      <td>3.000000</td>\n",
       "    </tr>\n",
       "    <tr>\n",
       "      <th>max</th>\n",
       "      <td>19.000000</td>\n",
       "      <td>4.000000</td>\n",
       "    </tr>\n",
       "  </tbody>\n",
       "</table>\n",
       "</div>"
      ],
      "text/plain": [
       "               업종분류          규모분류\n",
       "count  14810.000000  14810.000000\n",
       "mean      10.605334      2.145037\n",
       "std        5.317740      1.137411\n",
       "min        1.000000      1.000000\n",
       "25%        7.000000      1.000000\n",
       "50%       11.000000      2.000000\n",
       "75%       14.000000      3.000000\n",
       "max       19.000000      4.000000"
      ]
     },
     "execution_count": 5,
     "metadata": {},
     "output_type": "execute_result"
    }
   ],
   "source": [
    "df.describe() # int 타입이 아닌 object 타입이라 제대로 값이 산출되지 않음"
   ]
  },
  {
   "cell_type": "code",
   "execution_count": 6,
   "id": "a257c79f",
   "metadata": {},
   "outputs": [
    {
     "data": {
      "text/plain": [
       "기업명        0\n",
       "지원분야    1031\n",
       "학교         0\n",
       "전공      2247\n",
       "학점         0\n",
       "토익         0\n",
       "오픽         0\n",
       "토스         0\n",
       "자격증        1\n",
       "연수         0\n",
       "봉사         0\n",
       "인턴         0\n",
       "업종         0\n",
       "업종분류       0\n",
       "기업규모       0\n",
       "규모분류       0\n",
       "dtype: int64"
      ]
     },
     "execution_count": 6,
     "metadata": {},
     "output_type": "execute_result"
    }
   ],
   "source": [
    "df.isnull().sum() # 빈 행 갯수만큼 각 열에서 null값이 관측됨. 해당 데이터 결측치에 대한 전처리가 필요할 것으로 판단됨."
   ]
  },
  {
   "cell_type": "code",
   "execution_count": 7,
   "id": "887b272f",
   "metadata": {},
   "outputs": [
    {
     "data": {
      "text/html": [
       "<div>\n",
       "<style scoped>\n",
       "    .dataframe tbody tr th:only-of-type {\n",
       "        vertical-align: middle;\n",
       "    }\n",
       "\n",
       "    .dataframe tbody tr th {\n",
       "        vertical-align: top;\n",
       "    }\n",
       "\n",
       "    .dataframe thead th {\n",
       "        text-align: right;\n",
       "    }\n",
       "</style>\n",
       "<table border=\"1\" class=\"dataframe\">\n",
       "  <thead>\n",
       "    <tr style=\"text-align: right;\">\n",
       "      <th></th>\n",
       "      <th>기업명</th>\n",
       "      <th>지원분야</th>\n",
       "      <th>학교</th>\n",
       "      <th>전공</th>\n",
       "      <th>학점</th>\n",
       "      <th>토익</th>\n",
       "      <th>오픽</th>\n",
       "      <th>토스</th>\n",
       "      <th>자격증</th>\n",
       "      <th>연수</th>\n",
       "      <th>봉사</th>\n",
       "      <th>인턴</th>\n",
       "      <th>업종</th>\n",
       "      <th>업종분류</th>\n",
       "      <th>기업규모</th>\n",
       "      <th>규모분류</th>\n",
       "    </tr>\n",
       "  </thead>\n",
       "  <tbody>\n",
       "    <tr>\n",
       "      <th>9</th>\n",
       "      <td>아워홈</td>\n",
       "      <td>요리사</td>\n",
       "      <td>고졸</td>\n",
       "      <td>NaN</td>\n",
       "      <td>-</td>\n",
       "      <td>-</td>\n",
       "      <td>-</td>\n",
       "      <td>-</td>\n",
       "      <td>2개</td>\n",
       "      <td>-</td>\n",
       "      <td>-</td>\n",
       "      <td>-</td>\n",
       "      <td>음식료/호텔/리조트/여행</td>\n",
       "      <td>10</td>\n",
       "      <td>중견기업</td>\n",
       "      <td>2</td>\n",
       "    </tr>\n",
       "    <tr>\n",
       "      <th>16</th>\n",
       "      <td>21세기조선</td>\n",
       "      <td>생산직종사자</td>\n",
       "      <td>고졸</td>\n",
       "      <td>NaN</td>\n",
       "      <td>-</td>\n",
       "      <td>-</td>\n",
       "      <td>-</td>\n",
       "      <td>-</td>\n",
       "      <td>1개</td>\n",
       "      <td>-</td>\n",
       "      <td>-</td>\n",
       "      <td>-</td>\n",
       "      <td>자동차/기계/조선</td>\n",
       "      <td>12</td>\n",
       "      <td>중소기업</td>\n",
       "      <td>4</td>\n",
       "    </tr>\n",
       "    <tr>\n",
       "      <th>32</th>\n",
       "      <td>ADT캡스</td>\n",
       "      <td>회계담당자</td>\n",
       "      <td>고졸</td>\n",
       "      <td>NaN</td>\n",
       "      <td>-</td>\n",
       "      <td>-</td>\n",
       "      <td>-</td>\n",
       "      <td>-</td>\n",
       "      <td>4개</td>\n",
       "      <td>-</td>\n",
       "      <td>-</td>\n",
       "      <td>-</td>\n",
       "      <td>다업종기업/기타</td>\n",
       "      <td>3</td>\n",
       "      <td>중소기업</td>\n",
       "      <td>4</td>\n",
       "    </tr>\n",
       "    <tr>\n",
       "      <th>33</th>\n",
       "      <td>ADT캡스</td>\n",
       "      <td>설치·수리기사</td>\n",
       "      <td>고졸</td>\n",
       "      <td>NaN</td>\n",
       "      <td>-</td>\n",
       "      <td>-</td>\n",
       "      <td>-</td>\n",
       "      <td>-</td>\n",
       "      <td>1개</td>\n",
       "      <td>-</td>\n",
       "      <td>-</td>\n",
       "      <td>-</td>\n",
       "      <td>다업종기업/기타</td>\n",
       "      <td>3</td>\n",
       "      <td>중소기업</td>\n",
       "      <td>4</td>\n",
       "    </tr>\n",
       "    <tr>\n",
       "      <th>34</th>\n",
       "      <td>ADT캡스</td>\n",
       "      <td>시설관리자</td>\n",
       "      <td>고졸</td>\n",
       "      <td>NaN</td>\n",
       "      <td>-</td>\n",
       "      <td>-</td>\n",
       "      <td>-</td>\n",
       "      <td>-</td>\n",
       "      <td>2개</td>\n",
       "      <td>-</td>\n",
       "      <td>-</td>\n",
       "      <td>-</td>\n",
       "      <td>다업종기업/기타</td>\n",
       "      <td>3</td>\n",
       "      <td>중소기업</td>\n",
       "      <td>4</td>\n",
       "    </tr>\n",
       "    <tr>\n",
       "      <th>...</th>\n",
       "      <td>...</td>\n",
       "      <td>...</td>\n",
       "      <td>...</td>\n",
       "      <td>...</td>\n",
       "      <td>...</td>\n",
       "      <td>...</td>\n",
       "      <td>...</td>\n",
       "      <td>...</td>\n",
       "      <td>...</td>\n",
       "      <td>...</td>\n",
       "      <td>...</td>\n",
       "      <td>...</td>\n",
       "      <td>...</td>\n",
       "      <td>...</td>\n",
       "      <td>...</td>\n",
       "      <td>...</td>\n",
       "    </tr>\n",
       "    <tr>\n",
       "      <th>14761</th>\n",
       "      <td>흥아해운</td>\n",
       "      <td>회계담당자</td>\n",
       "      <td>고졸</td>\n",
       "      <td>NaN</td>\n",
       "      <td>-</td>\n",
       "      <td>-</td>\n",
       "      <td>-</td>\n",
       "      <td>-</td>\n",
       "      <td>-</td>\n",
       "      <td>-</td>\n",
       "      <td>-</td>\n",
       "      <td>-</td>\n",
       "      <td>상사/유통/운송</td>\n",
       "      <td>7</td>\n",
       "      <td>중견기업</td>\n",
       "      <td>2</td>\n",
       "    </tr>\n",
       "    <tr>\n",
       "      <th>14766</th>\n",
       "      <td>흥아해운</td>\n",
       "      <td>인사담당자</td>\n",
       "      <td>고졸</td>\n",
       "      <td>NaN</td>\n",
       "      <td>-</td>\n",
       "      <td>-</td>\n",
       "      <td>-</td>\n",
       "      <td>-</td>\n",
       "      <td>4개</td>\n",
       "      <td>-</td>\n",
       "      <td>-</td>\n",
       "      <td>-</td>\n",
       "      <td>상사/유통/운송</td>\n",
       "      <td>7</td>\n",
       "      <td>중견기업</td>\n",
       "      <td>2</td>\n",
       "    </tr>\n",
       "    <tr>\n",
       "      <th>14792</th>\n",
       "      <td>희성촉매</td>\n",
       "      <td>생산직종사자</td>\n",
       "      <td>고졸</td>\n",
       "      <td>NaN</td>\n",
       "      <td>-</td>\n",
       "      <td>-</td>\n",
       "      <td>-</td>\n",
       "      <td>-</td>\n",
       "      <td>3개</td>\n",
       "      <td>-</td>\n",
       "      <td>-</td>\n",
       "      <td>-</td>\n",
       "      <td>자동차/기계/조선</td>\n",
       "      <td>12</td>\n",
       "      <td>중견기업</td>\n",
       "      <td>2</td>\n",
       "    </tr>\n",
       "    <tr>\n",
       "      <th>14796</th>\n",
       "      <td>희성촉매</td>\n",
       "      <td>생산직종사자</td>\n",
       "      <td>고졸</td>\n",
       "      <td>NaN</td>\n",
       "      <td>-</td>\n",
       "      <td>-</td>\n",
       "      <td>-</td>\n",
       "      <td>-</td>\n",
       "      <td>-</td>\n",
       "      <td>-</td>\n",
       "      <td>-</td>\n",
       "      <td>-</td>\n",
       "      <td>자동차/기계/조선</td>\n",
       "      <td>12</td>\n",
       "      <td>중견기업</td>\n",
       "      <td>2</td>\n",
       "    </tr>\n",
       "    <tr>\n",
       "      <th>14797</th>\n",
       "      <td>희성촉매</td>\n",
       "      <td>생산직종사자</td>\n",
       "      <td>고졸</td>\n",
       "      <td>NaN</td>\n",
       "      <td>-</td>\n",
       "      <td>-</td>\n",
       "      <td>-</td>\n",
       "      <td>-</td>\n",
       "      <td>4개</td>\n",
       "      <td>-</td>\n",
       "      <td>-</td>\n",
       "      <td>-</td>\n",
       "      <td>자동차/기계/조선</td>\n",
       "      <td>12</td>\n",
       "      <td>중견기업</td>\n",
       "      <td>2</td>\n",
       "    </tr>\n",
       "  </tbody>\n",
       "</table>\n",
       "<p>743 rows × 16 columns</p>\n",
       "</div>"
      ],
      "text/plain": [
       "          기업명     지원분야  학교   전공 학점 토익 오픽 토스 자격증 연수 봉사 인턴             업종  업종분류  \\\n",
       "9         아워홈      요리사  고졸  NaN  -  -  -  -  2개  -  -  -  음식료/호텔/리조트/여행    10   \n",
       "16     21세기조선   생산직종사자  고졸  NaN  -  -  -  -  1개  -  -  -      자동차/기계/조선    12   \n",
       "32      ADT캡스    회계담당자  고졸  NaN  -  -  -  -  4개  -  -  -       다업종기업/기타     3   \n",
       "33      ADT캡스  설치·수리기사  고졸  NaN  -  -  -  -  1개  -  -  -       다업종기업/기타     3   \n",
       "34      ADT캡스    시설관리자  고졸  NaN  -  -  -  -  2개  -  -  -       다업종기업/기타     3   \n",
       "...       ...      ...  ..  ... .. .. .. ..  .. .. .. ..            ...   ...   \n",
       "14761    흥아해운    회계담당자  고졸  NaN  -  -  -  -   -  -  -  -       상사/유통/운송     7   \n",
       "14766    흥아해운    인사담당자  고졸  NaN  -  -  -  -  4개  -  -  -       상사/유통/운송     7   \n",
       "14792    희성촉매   생산직종사자  고졸  NaN  -  -  -  -  3개  -  -  -      자동차/기계/조선    12   \n",
       "14796    희성촉매   생산직종사자  고졸  NaN  -  -  -  -   -  -  -  -      자동차/기계/조선    12   \n",
       "14797    희성촉매   생산직종사자  고졸  NaN  -  -  -  -  4개  -  -  -      자동차/기계/조선    12   \n",
       "\n",
       "       기업규모  규모분류  \n",
       "9      중견기업     2  \n",
       "16     중소기업     4  \n",
       "32     중소기업     4  \n",
       "33     중소기업     4  \n",
       "34     중소기업     4  \n",
       "...     ...   ...  \n",
       "14761  중견기업     2  \n",
       "14766  중견기업     2  \n",
       "14792  중견기업     2  \n",
       "14796  중견기업     2  \n",
       "14797  중견기업     2  \n",
       "\n",
       "[743 rows x 16 columns]"
      ]
     },
     "execution_count": 7,
     "metadata": {},
     "output_type": "execute_result"
    }
   ],
   "source": [
    "null_rows_2 = df[df['학교']=='고졸']\n",
    "null_rows_2"
   ]
  },
  {
   "cell_type": "markdown",
   "id": "00861509",
   "metadata": {},
   "source": [
    "### 데이터 타입 변경 및 기초 전처리"
   ]
  },
  {
   "cell_type": "code",
   "execution_count": 8,
   "id": "cf7c1a6f",
   "metadata": {},
   "outputs": [],
   "source": [
    "# 영어점수는 토익, 토익스피킹, 오픽중 하나만 따는 경향이 있음. 따라서 비어있는 경우가 많으므로 세 열을 하나로 합치는게 나을 것으로 보임\n",
    "# 토익스피킹과 오픽 점수는 토익 점수로 환산이 가능함. 따라서 토익 점수 분류에 따라 토익스피킹과 오픽 점수를 변환함\n",
    "eng = {'-' : 0, 'Lv1' : 100, 'Lv2' : 200, 'Lv3' : 300, 'Lv4' : 440, 'Lv5' : 600, 'Lv6' : 775, 'Lv7' : 915, 'Lv8' : 975,\n",
    "       'Level 2' : 200, 'Level 4' : 440, 'Level 5' : 600, 'Level 6' : 775, 'Level 7' : 915, 'Level 8' : 975,\n",
    "       'AL' : 975, 'AM' : 990, 'AH' : 990,\n",
    "       'IL' : 440, 'IM': 570, 'IM1' : 570, 'IM2' : 745, 'IM3' : 845, '13' : 845, 'IH' : 915,\n",
    "       'NL' : 100, 'NH' : 300, 'M1' : 570, 'M2' : 745}\n",
    "df = df.replace(to_replace=eng)"
   ]
  },
  {
   "cell_type": "code",
   "execution_count": 9,
   "id": "f6e20d53",
   "metadata": {},
   "outputs": [
    {
     "data": {
      "text/plain": [
       "array([0, 975, 775, '없음', 915, 440, 600, 845, 200, 990, 100, 300],\n",
       "      dtype=object)"
      ]
     },
     "execution_count": 9,
     "metadata": {},
     "output_type": "execute_result"
    }
   ],
   "source": [
    "df['토스'].unique()"
   ]
  },
  {
   "cell_type": "code",
   "execution_count": 10,
   "id": "40d5ce4e",
   "metadata": {},
   "outputs": [
    {
     "data": {
      "text/html": [
       "<div>\n",
       "<style scoped>\n",
       "    .dataframe tbody tr th:only-of-type {\n",
       "        vertical-align: middle;\n",
       "    }\n",
       "\n",
       "    .dataframe tbody tr th {\n",
       "        vertical-align: top;\n",
       "    }\n",
       "\n",
       "    .dataframe thead th {\n",
       "        text-align: right;\n",
       "    }\n",
       "</style>\n",
       "<table border=\"1\" class=\"dataframe\">\n",
       "  <thead>\n",
       "    <tr style=\"text-align: right;\">\n",
       "      <th></th>\n",
       "      <th>기업명</th>\n",
       "      <th>지원분야</th>\n",
       "      <th>학교</th>\n",
       "      <th>전공</th>\n",
       "      <th>학점</th>\n",
       "      <th>토익</th>\n",
       "      <th>오픽</th>\n",
       "      <th>토스</th>\n",
       "      <th>자격증</th>\n",
       "      <th>연수</th>\n",
       "      <th>봉사</th>\n",
       "      <th>인턴</th>\n",
       "      <th>업종</th>\n",
       "      <th>업종분류</th>\n",
       "      <th>기업규모</th>\n",
       "      <th>규모분류</th>\n",
       "    </tr>\n",
       "  </thead>\n",
       "  <tbody>\n",
       "    <tr>\n",
       "      <th>0</th>\n",
       "      <td>아워홈</td>\n",
       "      <td>법인영업</td>\n",
       "      <td>지방4년제</td>\n",
       "      <td>중국어과</td>\n",
       "      <td>3.5</td>\n",
       "      <td>0</td>\n",
       "      <td>0</td>\n",
       "      <td>0</td>\n",
       "      <td>0</td>\n",
       "      <td>1회</td>\n",
       "      <td>0</td>\n",
       "      <td>0</td>\n",
       "      <td>음식료/호텔/리조트/여행</td>\n",
       "      <td>10</td>\n",
       "      <td>중견기업</td>\n",
       "      <td>2</td>\n",
       "    </tr>\n",
       "    <tr>\n",
       "      <th>1</th>\n",
       "      <td>아워홈</td>\n",
       "      <td>재무담당자</td>\n",
       "      <td>수도권4년제</td>\n",
       "      <td>중어중문과</td>\n",
       "      <td>3.57</td>\n",
       "      <td>900점</td>\n",
       "      <td>0</td>\n",
       "      <td>975</td>\n",
       "      <td>4개</td>\n",
       "      <td>2회</td>\n",
       "      <td>0</td>\n",
       "      <td>0</td>\n",
       "      <td>음식료/호텔/리조트/여행</td>\n",
       "      <td>10</td>\n",
       "      <td>중견기업</td>\n",
       "      <td>2</td>\n",
       "    </tr>\n",
       "    <tr>\n",
       "      <th>2</th>\n",
       "      <td>아워홈</td>\n",
       "      <td>바이오·제약연구원</td>\n",
       "      <td>대학원</td>\n",
       "      <td>화공생명공학과</td>\n",
       "      <td>4.19</td>\n",
       "      <td>800점</td>\n",
       "      <td>0</td>\n",
       "      <td>775</td>\n",
       "      <td>4개</td>\n",
       "      <td>1회</td>\n",
       "      <td>0</td>\n",
       "      <td>1회</td>\n",
       "      <td>음식료/호텔/리조트/여행</td>\n",
       "      <td>10</td>\n",
       "      <td>중견기업</td>\n",
       "      <td>2</td>\n",
       "    </tr>\n",
       "    <tr>\n",
       "      <th>3</th>\n",
       "      <td>아워홈</td>\n",
       "      <td>바이오·제약연구원</td>\n",
       "      <td>대학원</td>\n",
       "      <td>화공생명공학과</td>\n",
       "      <td>4.19</td>\n",
       "      <td>800점</td>\n",
       "      <td>0</td>\n",
       "      <td>775</td>\n",
       "      <td>4개</td>\n",
       "      <td>1회</td>\n",
       "      <td>0</td>\n",
       "      <td>1회</td>\n",
       "      <td>음식료/호텔/리조트/여행</td>\n",
       "      <td>10</td>\n",
       "      <td>중견기업</td>\n",
       "      <td>2</td>\n",
       "    </tr>\n",
       "    <tr>\n",
       "      <th>4</th>\n",
       "      <td>아워홈</td>\n",
       "      <td>온라인마케터</td>\n",
       "      <td>수도권4년제</td>\n",
       "      <td>문화경영학과</td>\n",
       "      <td>3.63</td>\n",
       "      <td>950점</td>\n",
       "      <td>0</td>\n",
       "      <td>775</td>\n",
       "      <td>1개</td>\n",
       "      <td>1회</td>\n",
       "      <td>3회</td>\n",
       "      <td>2회</td>\n",
       "      <td>음식료/호텔/리조트/여행</td>\n",
       "      <td>10</td>\n",
       "      <td>중견기업</td>\n",
       "      <td>2</td>\n",
       "    </tr>\n",
       "  </tbody>\n",
       "</table>\n",
       "</div>"
      ],
      "text/plain": [
       "   기업명       지원분야      학교       전공    학점    토익 오픽   토스 자격증  연수  봉사  인턴  \\\n",
       "0  아워홈       법인영업   지방4년제     중국어과   3.5     0  0    0   0  1회   0   0   \n",
       "1  아워홈      재무담당자  수도권4년제    중어중문과  3.57  900점  0  975  4개  2회   0   0   \n",
       "2  아워홈  바이오·제약연구원     대학원  화공생명공학과  4.19  800점  0  775  4개  1회   0  1회   \n",
       "3  아워홈  바이오·제약연구원     대학원  화공생명공학과  4.19  800점  0  775  4개  1회   0  1회   \n",
       "4  아워홈     온라인마케터  수도권4년제   문화경영학과  3.63  950점  0  775  1개  1회  3회  2회   \n",
       "\n",
       "              업종  업종분류  기업규모  규모분류  \n",
       "0  음식료/호텔/리조트/여행    10  중견기업     2  \n",
       "1  음식료/호텔/리조트/여행    10  중견기업     2  \n",
       "2  음식료/호텔/리조트/여행    10  중견기업     2  \n",
       "3  음식료/호텔/리조트/여행    10  중견기업     2  \n",
       "4  음식료/호텔/리조트/여행    10  중견기업     2  "
      ]
     },
     "execution_count": 10,
     "metadata": {},
     "output_type": "execute_result"
    }
   ],
   "source": [
    "df.head()\n",
    "# 확인결과 정상적으로 변환된 것을 알 수 있음. \n",
    "#단, 일부 열이 아닌 전체 열에 변환과정을 진행한 것으로 타 행에서 '-'가 0으로 변환되었을 수 있음\n",
    "# 따라서 추후 시각화 과정에서 다른 열, 특히 회사명~전공 등 str 열에 0값이 나타나는지 확인이 필요함\n",
    "# 특히 결측치가 확인되었었던 전공, 기업분류, 지원분야 열을 주의깊게 확인"
   ]
  },
  {
   "cell_type": "code",
   "execution_count": 11,
   "id": "7c10677e",
   "metadata": {},
   "outputs": [],
   "source": [
    "# 숫자형 데이터에서 '점', '개', '회' 등을 떼어내는 코드\n",
    "df['토익'] = df['토익'].str.extract(r'(\\d+)')\n",
    "df['자격증'] = df['자격증'].str.extract(r'(\\d+)')\n",
    "df['연수'] = df['연수'].str.extract(r'(\\d+)')\n",
    "df['인턴'] = df['인턴'].str.extract(r'(\\d+)')\n",
    "df['봉사'] = df['봉사'].str.extract(r'(\\d+)')\n",
    "df = df.fillna(0)\n",
    "df = df.astype({'학점' : 'float', '토익':'int32', '자격증':'int32', '연수':'int32', '인턴':'int32', '봉사':'int32'})"
   ]
  },
  {
   "cell_type": "code",
   "execution_count": 12,
   "id": "74f8501c",
   "metadata": {},
   "outputs": [
    {
     "name": "stdout",
     "output_type": "stream",
     "text": [
      "<class 'pandas.core.frame.DataFrame'>\n",
      "RangeIndex: 14810 entries, 0 to 14809\n",
      "Data columns (total 16 columns):\n",
      " #   Column  Non-Null Count  Dtype  \n",
      "---  ------  --------------  -----  \n",
      " 0   기업명     14810 non-null  object \n",
      " 1   지원분야    14810 non-null  object \n",
      " 2   학교      14810 non-null  object \n",
      " 3   전공      14810 non-null  object \n",
      " 4   학점      14810 non-null  float64\n",
      " 5   토익      14810 non-null  int32  \n",
      " 6   오픽      14810 non-null  object \n",
      " 7   토스      14810 non-null  object \n",
      " 8   자격증     14810 non-null  int32  \n",
      " 9   연수      14810 non-null  int32  \n",
      " 10  봉사      14810 non-null  int32  \n",
      " 11  인턴      14810 non-null  int32  \n",
      " 12  업종      14810 non-null  object \n",
      " 13  업종분류    14810 non-null  int64  \n",
      " 14  기업규모    14810 non-null  object \n",
      " 15  규모분류    14810 non-null  int64  \n",
      "dtypes: float64(1), int32(5), int64(2), object(8)\n",
      "memory usage: 1.5+ MB\n"
     ]
    }
   ],
   "source": [
    "df.info() \n",
    "# 정상적으로 데이터 타입이 변경되었음을 확인할 수 있음. \n",
    "#단, 아까 우려한 대로 결측치가 사라짐. 해당 결측치들에 0값이 들어갔을것으로 추측됨"
   ]
  },
  {
   "cell_type": "code",
   "execution_count": 13,
   "id": "0c4c48f8",
   "metadata": {
    "scrolled": true
   },
   "outputs": [
    {
     "data": {
      "text/html": [
       "<div>\n",
       "<style scoped>\n",
       "    .dataframe tbody tr th:only-of-type {\n",
       "        vertical-align: middle;\n",
       "    }\n",
       "\n",
       "    .dataframe tbody tr th {\n",
       "        vertical-align: top;\n",
       "    }\n",
       "\n",
       "    .dataframe thead th {\n",
       "        text-align: right;\n",
       "    }\n",
       "</style>\n",
       "<table border=\"1\" class=\"dataframe\">\n",
       "  <thead>\n",
       "    <tr style=\"text-align: right;\">\n",
       "      <th></th>\n",
       "      <th>학점</th>\n",
       "      <th>토익</th>\n",
       "      <th>자격증</th>\n",
       "      <th>연수</th>\n",
       "      <th>봉사</th>\n",
       "      <th>인턴</th>\n",
       "      <th>업종분류</th>\n",
       "      <th>규모분류</th>\n",
       "    </tr>\n",
       "  </thead>\n",
       "  <tbody>\n",
       "    <tr>\n",
       "      <th>count</th>\n",
       "      <td>14810.000000</td>\n",
       "      <td>14810.000000</td>\n",
       "      <td>14810.000000</td>\n",
       "      <td>14810.000000</td>\n",
       "      <td>14810.000000</td>\n",
       "      <td>14810.000000</td>\n",
       "      <td>14810.000000</td>\n",
       "      <td>14810.000000</td>\n",
       "    </tr>\n",
       "    <tr>\n",
       "      <th>mean</th>\n",
       "      <td>3.367169</td>\n",
       "      <td>578.219514</td>\n",
       "      <td>1.447333</td>\n",
       "      <td>0.376165</td>\n",
       "      <td>0.560162</td>\n",
       "      <td>0.328089</td>\n",
       "      <td>10.605334</td>\n",
       "      <td>2.145037</td>\n",
       "    </tr>\n",
       "    <tr>\n",
       "      <th>std</th>\n",
       "      <td>1.101730</td>\n",
       "      <td>394.912070</td>\n",
       "      <td>1.674575</td>\n",
       "      <td>0.775032</td>\n",
       "      <td>1.174863</td>\n",
       "      <td>0.938259</td>\n",
       "      <td>5.317740</td>\n",
       "      <td>1.137411</td>\n",
       "    </tr>\n",
       "    <tr>\n",
       "      <th>min</th>\n",
       "      <td>0.000000</td>\n",
       "      <td>0.000000</td>\n",
       "      <td>0.000000</td>\n",
       "      <td>0.000000</td>\n",
       "      <td>0.000000</td>\n",
       "      <td>0.000000</td>\n",
       "      <td>1.000000</td>\n",
       "      <td>1.000000</td>\n",
       "    </tr>\n",
       "    <tr>\n",
       "      <th>25%</th>\n",
       "      <td>3.390000</td>\n",
       "      <td>0.000000</td>\n",
       "      <td>0.000000</td>\n",
       "      <td>0.000000</td>\n",
       "      <td>0.000000</td>\n",
       "      <td>0.000000</td>\n",
       "      <td>7.000000</td>\n",
       "      <td>1.000000</td>\n",
       "    </tr>\n",
       "    <tr>\n",
       "      <th>50%</th>\n",
       "      <td>3.670000</td>\n",
       "      <td>800.000000</td>\n",
       "      <td>1.000000</td>\n",
       "      <td>0.000000</td>\n",
       "      <td>0.000000</td>\n",
       "      <td>0.000000</td>\n",
       "      <td>11.000000</td>\n",
       "      <td>2.000000</td>\n",
       "    </tr>\n",
       "    <tr>\n",
       "      <th>75%</th>\n",
       "      <td>3.910000</td>\n",
       "      <td>880.000000</td>\n",
       "      <td>2.000000</td>\n",
       "      <td>1.000000</td>\n",
       "      <td>1.000000</td>\n",
       "      <td>0.000000</td>\n",
       "      <td>14.000000</td>\n",
       "      <td>3.000000</td>\n",
       "    </tr>\n",
       "    <tr>\n",
       "      <th>max</th>\n",
       "      <td>4.500000</td>\n",
       "      <td>990.000000</td>\n",
       "      <td>16.000000</td>\n",
       "      <td>14.000000</td>\n",
       "      <td>16.000000</td>\n",
       "      <td>11.000000</td>\n",
       "      <td>19.000000</td>\n",
       "      <td>4.000000</td>\n",
       "    </tr>\n",
       "  </tbody>\n",
       "</table>\n",
       "</div>"
      ],
      "text/plain": [
       "                 학점            토익           자격증            연수            봉사  \\\n",
       "count  14810.000000  14810.000000  14810.000000  14810.000000  14810.000000   \n",
       "mean       3.367169    578.219514      1.447333      0.376165      0.560162   \n",
       "std        1.101730    394.912070      1.674575      0.775032      1.174863   \n",
       "min        0.000000      0.000000      0.000000      0.000000      0.000000   \n",
       "25%        3.390000      0.000000      0.000000      0.000000      0.000000   \n",
       "50%        3.670000    800.000000      1.000000      0.000000      0.000000   \n",
       "75%        3.910000    880.000000      2.000000      1.000000      1.000000   \n",
       "max        4.500000    990.000000     16.000000     14.000000     16.000000   \n",
       "\n",
       "                 인턴          업종분류          규모분류  \n",
       "count  14810.000000  14810.000000  14810.000000  \n",
       "mean       0.328089     10.605334      2.145037  \n",
       "std        0.938259      5.317740      1.137411  \n",
       "min        0.000000      1.000000      1.000000  \n",
       "25%        0.000000      7.000000      1.000000  \n",
       "50%        0.000000     11.000000      2.000000  \n",
       "75%        0.000000     14.000000      3.000000  \n",
       "max       11.000000     19.000000      4.000000  "
      ]
     },
     "execution_count": 13,
     "metadata": {},
     "output_type": "execute_result"
    }
   ],
   "source": [
    "df.describe() \n",
    "# 연수, 인턴, 봉사는 상위 75%값도 눈에띄게 낮으며, 특히 외국어의 경우 상위 75%도 0을 기록함\n",
    "# 분석에 필수적인 자료가 아닐것으로 판단되므로 제외하는것이 나을수도 있을것으로 판단됨"
   ]
  },
  {
   "cell_type": "code",
   "execution_count": 14,
   "id": "6d2dd30a",
   "metadata": {},
   "outputs": [],
   "source": [
    "# 범주형 데이터 라벨 인코딩\n",
    "# 사용할 열만 라벨 인코딩을 진행함\n",
    "# 본 분석에서 기업명, 지원분야, 전공은 필요없을것으로 판단되므로 라벨인코딩 해야하는 학교와 전공중 학교만 하면 됨\n",
    "\n",
    "df=df.drop(['기업명','지원분야','전공'],axis=1)"
   ]
  },
  {
   "cell_type": "code",
   "execution_count": 15,
   "id": "534f5237",
   "metadata": {},
   "outputs": [],
   "source": [
    "# object 열 [회사명, 기업분류, 시기, 지원분야, 대학, 계열, 전공] \n",
    "# 회사명은 추구 기업 규모와 합쳐져 y값에 들어갈 내용이므로 제외, 기업분류도 분류코드와 내용이 중복되므로 제외\n",
    "# 지원분야는 고려하지 않을것이므로 제외 , 시기도 시계열분석을 진행하지 않을것이므로 제외\n",
    "# 따라서 대학, 계열, 전공만 숫자형 데이터로 인코딩을 진행함\n",
    "\n",
    "#df = df[df.학교 != 0]\n",
    "lb = LabelEncoder()\n",
    "df['학교'] = lb.fit_transform(df['학교'])\n",
    "\n",
    "# label 인코딩과 원핫 인코딩중 무얼 사용할지도 생각해보기\n",
    "# 라벨인코딩의 경우 단순히 라벨링해서 숫자 1부터 쭈루룩 달아주는건데 모델에 따라서 숫자가 높을수록 관련이 높다고 해석될 여지도 있음!"
   ]
  },
  {
   "cell_type": "code",
   "execution_count": 16,
   "id": "3a6add92",
   "metadata": {},
   "outputs": [
    {
     "name": "stdout",
     "output_type": "stream",
     "text": [
      "<class 'pandas.core.frame.DataFrame'>\n",
      "RangeIndex: 14810 entries, 0 to 14809\n",
      "Data columns (total 13 columns):\n",
      " #   Column  Non-Null Count  Dtype  \n",
      "---  ------  --------------  -----  \n",
      " 0   학교      14810 non-null  int32  \n",
      " 1   학점      14810 non-null  float64\n",
      " 2   토익      14810 non-null  int32  \n",
      " 3   오픽      14810 non-null  object \n",
      " 4   토스      14810 non-null  object \n",
      " 5   자격증     14810 non-null  int32  \n",
      " 6   연수      14810 non-null  int32  \n",
      " 7   봉사      14810 non-null  int32  \n",
      " 8   인턴      14810 non-null  int32  \n",
      " 9   업종      14810 non-null  object \n",
      " 10  업종분류    14810 non-null  int64  \n",
      " 11  기업규모    14810 non-null  object \n",
      " 12  규모분류    14810 non-null  int64  \n",
      "dtypes: float64(1), int32(6), int64(2), object(4)\n",
      "memory usage: 1.1+ MB\n"
     ]
    }
   ],
   "source": [
    "df.info() # 아까 전공계열에 있던 결측치 갯수만큼 전체 열의 행이 감소한 것을 확인해볼 수 있다."
   ]
  },
  {
   "cell_type": "code",
   "execution_count": 17,
   "id": "897a4e48",
   "metadata": {},
   "outputs": [
    {
     "data": {
      "text/html": [
       "<div>\n",
       "<style scoped>\n",
       "    .dataframe tbody tr th:only-of-type {\n",
       "        vertical-align: middle;\n",
       "    }\n",
       "\n",
       "    .dataframe tbody tr th {\n",
       "        vertical-align: top;\n",
       "    }\n",
       "\n",
       "    .dataframe thead th {\n",
       "        text-align: right;\n",
       "    }\n",
       "</style>\n",
       "<table border=\"1\" class=\"dataframe\">\n",
       "  <thead>\n",
       "    <tr style=\"text-align: right;\">\n",
       "      <th></th>\n",
       "      <th>학교</th>\n",
       "      <th>학점</th>\n",
       "      <th>토익</th>\n",
       "      <th>오픽</th>\n",
       "      <th>토스</th>\n",
       "      <th>자격증</th>\n",
       "      <th>연수</th>\n",
       "      <th>봉사</th>\n",
       "      <th>인턴</th>\n",
       "      <th>업종</th>\n",
       "      <th>업종분류</th>\n",
       "      <th>기업규모</th>\n",
       "      <th>규모분류</th>\n",
       "    </tr>\n",
       "  </thead>\n",
       "  <tbody>\n",
       "    <tr>\n",
       "      <th>0</th>\n",
       "      <td>4</td>\n",
       "      <td>3.50</td>\n",
       "      <td>0</td>\n",
       "      <td>0</td>\n",
       "      <td>0</td>\n",
       "      <td>0</td>\n",
       "      <td>1</td>\n",
       "      <td>0</td>\n",
       "      <td>0</td>\n",
       "      <td>음식료/호텔/리조트/여행</td>\n",
       "      <td>10</td>\n",
       "      <td>중견기업</td>\n",
       "      <td>2</td>\n",
       "    </tr>\n",
       "    <tr>\n",
       "      <th>1</th>\n",
       "      <td>3</td>\n",
       "      <td>3.57</td>\n",
       "      <td>900</td>\n",
       "      <td>0</td>\n",
       "      <td>975</td>\n",
       "      <td>4</td>\n",
       "      <td>2</td>\n",
       "      <td>0</td>\n",
       "      <td>0</td>\n",
       "      <td>음식료/호텔/리조트/여행</td>\n",
       "      <td>10</td>\n",
       "      <td>중견기업</td>\n",
       "      <td>2</td>\n",
       "    </tr>\n",
       "    <tr>\n",
       "      <th>2</th>\n",
       "      <td>1</td>\n",
       "      <td>4.19</td>\n",
       "      <td>800</td>\n",
       "      <td>0</td>\n",
       "      <td>775</td>\n",
       "      <td>4</td>\n",
       "      <td>1</td>\n",
       "      <td>0</td>\n",
       "      <td>1</td>\n",
       "      <td>음식료/호텔/리조트/여행</td>\n",
       "      <td>10</td>\n",
       "      <td>중견기업</td>\n",
       "      <td>2</td>\n",
       "    </tr>\n",
       "    <tr>\n",
       "      <th>3</th>\n",
       "      <td>1</td>\n",
       "      <td>4.19</td>\n",
       "      <td>800</td>\n",
       "      <td>0</td>\n",
       "      <td>775</td>\n",
       "      <td>4</td>\n",
       "      <td>1</td>\n",
       "      <td>0</td>\n",
       "      <td>1</td>\n",
       "      <td>음식료/호텔/리조트/여행</td>\n",
       "      <td>10</td>\n",
       "      <td>중견기업</td>\n",
       "      <td>2</td>\n",
       "    </tr>\n",
       "    <tr>\n",
       "      <th>4</th>\n",
       "      <td>3</td>\n",
       "      <td>3.63</td>\n",
       "      <td>950</td>\n",
       "      <td>0</td>\n",
       "      <td>775</td>\n",
       "      <td>1</td>\n",
       "      <td>1</td>\n",
       "      <td>3</td>\n",
       "      <td>2</td>\n",
       "      <td>음식료/호텔/리조트/여행</td>\n",
       "      <td>10</td>\n",
       "      <td>중견기업</td>\n",
       "      <td>2</td>\n",
       "    </tr>\n",
       "  </tbody>\n",
       "</table>\n",
       "</div>"
      ],
      "text/plain": [
       "   학교    학점   토익 오픽   토스  자격증  연수  봉사  인턴             업종  업종분류  기업규모  규모분류\n",
       "0   4  3.50    0  0    0    0   1   0   0  음식료/호텔/리조트/여행    10  중견기업     2\n",
       "1   3  3.57  900  0  975    4   2   0   0  음식료/호텔/리조트/여행    10  중견기업     2\n",
       "2   1  4.19  800  0  775    4   1   0   1  음식료/호텔/리조트/여행    10  중견기업     2\n",
       "3   1  4.19  800  0  775    4   1   0   1  음식료/호텔/리조트/여행    10  중견기업     2\n",
       "4   3  3.63  950  0  775    1   1   3   2  음식료/호텔/리조트/여행    10  중견기업     2"
      ]
     },
     "execution_count": 17,
     "metadata": {},
     "output_type": "execute_result"
    }
   ],
   "source": [
    "df.head() # 대학, 계열, 전공이 성공적으로 인코딩된 것을 확인할 수 있다."
   ]
  },
  {
   "cell_type": "code",
   "execution_count": 18,
   "id": "c6085219",
   "metadata": {},
   "outputs": [
    {
     "data": {
      "text/html": [
       "<div>\n",
       "<style scoped>\n",
       "    .dataframe tbody tr th:only-of-type {\n",
       "        vertical-align: middle;\n",
       "    }\n",
       "\n",
       "    .dataframe tbody tr th {\n",
       "        vertical-align: top;\n",
       "    }\n",
       "\n",
       "    .dataframe thead th {\n",
       "        text-align: right;\n",
       "    }\n",
       "</style>\n",
       "<table border=\"1\" class=\"dataframe\">\n",
       "  <thead>\n",
       "    <tr style=\"text-align: right;\">\n",
       "      <th></th>\n",
       "      <th>university</th>\n",
       "      <th>grade</th>\n",
       "      <th>toeic</th>\n",
       "      <th>Opic</th>\n",
       "      <th>toeic_speaking</th>\n",
       "      <th>license</th>\n",
       "      <th>abroad</th>\n",
       "      <th>volunteer</th>\n",
       "      <th>intern</th>\n",
       "      <th>sector</th>\n",
       "      <th>sector_code</th>\n",
       "      <th>size</th>\n",
       "      <th>size_code</th>\n",
       "    </tr>\n",
       "  </thead>\n",
       "  <tbody>\n",
       "    <tr>\n",
       "      <th>0</th>\n",
       "      <td>4</td>\n",
       "      <td>3.50</td>\n",
       "      <td>0</td>\n",
       "      <td>0</td>\n",
       "      <td>0</td>\n",
       "      <td>0</td>\n",
       "      <td>1</td>\n",
       "      <td>0</td>\n",
       "      <td>0</td>\n",
       "      <td>음식료/호텔/리조트/여행</td>\n",
       "      <td>10</td>\n",
       "      <td>중견기업</td>\n",
       "      <td>2</td>\n",
       "    </tr>\n",
       "    <tr>\n",
       "      <th>1</th>\n",
       "      <td>3</td>\n",
       "      <td>3.57</td>\n",
       "      <td>900</td>\n",
       "      <td>0</td>\n",
       "      <td>975</td>\n",
       "      <td>4</td>\n",
       "      <td>2</td>\n",
       "      <td>0</td>\n",
       "      <td>0</td>\n",
       "      <td>음식료/호텔/리조트/여행</td>\n",
       "      <td>10</td>\n",
       "      <td>중견기업</td>\n",
       "      <td>2</td>\n",
       "    </tr>\n",
       "    <tr>\n",
       "      <th>2</th>\n",
       "      <td>1</td>\n",
       "      <td>4.19</td>\n",
       "      <td>800</td>\n",
       "      <td>0</td>\n",
       "      <td>775</td>\n",
       "      <td>4</td>\n",
       "      <td>1</td>\n",
       "      <td>0</td>\n",
       "      <td>1</td>\n",
       "      <td>음식료/호텔/리조트/여행</td>\n",
       "      <td>10</td>\n",
       "      <td>중견기업</td>\n",
       "      <td>2</td>\n",
       "    </tr>\n",
       "    <tr>\n",
       "      <th>3</th>\n",
       "      <td>1</td>\n",
       "      <td>4.19</td>\n",
       "      <td>800</td>\n",
       "      <td>0</td>\n",
       "      <td>775</td>\n",
       "      <td>4</td>\n",
       "      <td>1</td>\n",
       "      <td>0</td>\n",
       "      <td>1</td>\n",
       "      <td>음식료/호텔/리조트/여행</td>\n",
       "      <td>10</td>\n",
       "      <td>중견기업</td>\n",
       "      <td>2</td>\n",
       "    </tr>\n",
       "    <tr>\n",
       "      <th>4</th>\n",
       "      <td>3</td>\n",
       "      <td>3.63</td>\n",
       "      <td>950</td>\n",
       "      <td>0</td>\n",
       "      <td>775</td>\n",
       "      <td>1</td>\n",
       "      <td>1</td>\n",
       "      <td>3</td>\n",
       "      <td>2</td>\n",
       "      <td>음식료/호텔/리조트/여행</td>\n",
       "      <td>10</td>\n",
       "      <td>중견기업</td>\n",
       "      <td>2</td>\n",
       "    </tr>\n",
       "  </tbody>\n",
       "</table>\n",
       "</div>"
      ],
      "text/plain": [
       "   university  grade  toeic Opic toeic_speaking  license  abroad  volunteer  \\\n",
       "0           4   3.50      0    0              0        0       1          0   \n",
       "1           3   3.57    900    0            975        4       2          0   \n",
       "2           1   4.19    800    0            775        4       1          0   \n",
       "3           1   4.19    800    0            775        4       1          0   \n",
       "4           3   3.63    950    0            775        1       1          3   \n",
       "\n",
       "   intern         sector  sector_code  size  size_code  \n",
       "0       0  음식료/호텔/리조트/여행           10  중견기업          2  \n",
       "1       0  음식료/호텔/리조트/여행           10  중견기업          2  \n",
       "2       1  음식료/호텔/리조트/여행           10  중견기업          2  \n",
       "3       1  음식료/호텔/리조트/여행           10  중견기업          2  \n",
       "4       2  음식료/호텔/리조트/여행           10  중견기업          2  "
      ]
     },
     "execution_count": 18,
     "metadata": {},
     "output_type": "execute_result"
    }
   ],
   "source": [
    "# 이후 오류가 발생하지 않도록 칼럼명을 영어로 수정해주자. 시각화에서도 한글이면 깨진다.(별도 코딩으로 나오게할순 있음)\n",
    "df.columns =['university', 'grade' ,'toeic','Opic','toeic_speaking','license','abroad','volunteer','intern', 'sector', 'sector_code', 'size', 'size_code']\n",
    "df.head()"
   ]
  },
  {
   "cell_type": "code",
   "execution_count": 19,
   "id": "76fcab8b",
   "metadata": {},
   "outputs": [
    {
     "data": {
      "text/html": [
       "<div>\n",
       "<style scoped>\n",
       "    .dataframe tbody tr th:only-of-type {\n",
       "        vertical-align: middle;\n",
       "    }\n",
       "\n",
       "    .dataframe tbody tr th {\n",
       "        vertical-align: top;\n",
       "    }\n",
       "\n",
       "    .dataframe thead th {\n",
       "        text-align: right;\n",
       "    }\n",
       "</style>\n",
       "<table border=\"1\" class=\"dataframe\">\n",
       "  <thead>\n",
       "    <tr style=\"text-align: right;\">\n",
       "      <th></th>\n",
       "      <th>university</th>\n",
       "      <th>grade</th>\n",
       "      <th>license</th>\n",
       "      <th>abroad</th>\n",
       "      <th>volunteer</th>\n",
       "      <th>intern</th>\n",
       "      <th>sector</th>\n",
       "      <th>sector_code</th>\n",
       "      <th>size</th>\n",
       "      <th>size_code</th>\n",
       "      <th>eng</th>\n",
       "    </tr>\n",
       "  </thead>\n",
       "  <tbody>\n",
       "    <tr>\n",
       "      <th>0</th>\n",
       "      <td>4</td>\n",
       "      <td>3.50</td>\n",
       "      <td>0</td>\n",
       "      <td>1</td>\n",
       "      <td>0</td>\n",
       "      <td>0</td>\n",
       "      <td>음식료/호텔/리조트/여행</td>\n",
       "      <td>10</td>\n",
       "      <td>중견기업</td>\n",
       "      <td>2</td>\n",
       "      <td>0</td>\n",
       "    </tr>\n",
       "    <tr>\n",
       "      <th>1</th>\n",
       "      <td>3</td>\n",
       "      <td>3.57</td>\n",
       "      <td>4</td>\n",
       "      <td>2</td>\n",
       "      <td>0</td>\n",
       "      <td>0</td>\n",
       "      <td>음식료/호텔/리조트/여행</td>\n",
       "      <td>10</td>\n",
       "      <td>중견기업</td>\n",
       "      <td>2</td>\n",
       "      <td>900</td>\n",
       "    </tr>\n",
       "    <tr>\n",
       "      <th>2</th>\n",
       "      <td>1</td>\n",
       "      <td>4.19</td>\n",
       "      <td>4</td>\n",
       "      <td>1</td>\n",
       "      <td>0</td>\n",
       "      <td>1</td>\n",
       "      <td>음식료/호텔/리조트/여행</td>\n",
       "      <td>10</td>\n",
       "      <td>중견기업</td>\n",
       "      <td>2</td>\n",
       "      <td>800</td>\n",
       "    </tr>\n",
       "    <tr>\n",
       "      <th>3</th>\n",
       "      <td>1</td>\n",
       "      <td>4.19</td>\n",
       "      <td>4</td>\n",
       "      <td>1</td>\n",
       "      <td>0</td>\n",
       "      <td>1</td>\n",
       "      <td>음식료/호텔/리조트/여행</td>\n",
       "      <td>10</td>\n",
       "      <td>중견기업</td>\n",
       "      <td>2</td>\n",
       "      <td>800</td>\n",
       "    </tr>\n",
       "    <tr>\n",
       "      <th>4</th>\n",
       "      <td>3</td>\n",
       "      <td>3.63</td>\n",
       "      <td>1</td>\n",
       "      <td>1</td>\n",
       "      <td>3</td>\n",
       "      <td>2</td>\n",
       "      <td>음식료/호텔/리조트/여행</td>\n",
       "      <td>10</td>\n",
       "      <td>중견기업</td>\n",
       "      <td>2</td>\n",
       "      <td>950</td>\n",
       "    </tr>\n",
       "    <tr>\n",
       "      <th>...</th>\n",
       "      <td>...</td>\n",
       "      <td>...</td>\n",
       "      <td>...</td>\n",
       "      <td>...</td>\n",
       "      <td>...</td>\n",
       "      <td>...</td>\n",
       "      <td>...</td>\n",
       "      <td>...</td>\n",
       "      <td>...</td>\n",
       "      <td>...</td>\n",
       "      <td>...</td>\n",
       "    </tr>\n",
       "    <tr>\n",
       "      <th>14805</th>\n",
       "      <td>5</td>\n",
       "      <td>3.50</td>\n",
       "      <td>0</td>\n",
       "      <td>0</td>\n",
       "      <td>0</td>\n",
       "      <td>0</td>\n",
       "      <td>도매/소매</td>\n",
       "      <td>4</td>\n",
       "      <td>중소기업</td>\n",
       "      <td>4</td>\n",
       "      <td>0</td>\n",
       "    </tr>\n",
       "    <tr>\n",
       "      <th>14806</th>\n",
       "      <td>2</td>\n",
       "      <td>3.31</td>\n",
       "      <td>0</td>\n",
       "      <td>1</td>\n",
       "      <td>0</td>\n",
       "      <td>0</td>\n",
       "      <td>도매/소매</td>\n",
       "      <td>4</td>\n",
       "      <td>중소기업</td>\n",
       "      <td>4</td>\n",
       "      <td>0</td>\n",
       "    </tr>\n",
       "    <tr>\n",
       "      <th>14807</th>\n",
       "      <td>5</td>\n",
       "      <td>3.62</td>\n",
       "      <td>0</td>\n",
       "      <td>0</td>\n",
       "      <td>0</td>\n",
       "      <td>0</td>\n",
       "      <td>도매/소매</td>\n",
       "      <td>4</td>\n",
       "      <td>중소기업</td>\n",
       "      <td>4</td>\n",
       "      <td>0</td>\n",
       "    </tr>\n",
       "    <tr>\n",
       "      <th>14808</th>\n",
       "      <td>5</td>\n",
       "      <td>3.60</td>\n",
       "      <td>2</td>\n",
       "      <td>0</td>\n",
       "      <td>0</td>\n",
       "      <td>0</td>\n",
       "      <td>도매/소매</td>\n",
       "      <td>4</td>\n",
       "      <td>중소기업</td>\n",
       "      <td>4</td>\n",
       "      <td>0</td>\n",
       "    </tr>\n",
       "    <tr>\n",
       "      <th>14809</th>\n",
       "      <td>5</td>\n",
       "      <td>3.20</td>\n",
       "      <td>0</td>\n",
       "      <td>1</td>\n",
       "      <td>0</td>\n",
       "      <td>0</td>\n",
       "      <td>자동차/기계/조선</td>\n",
       "      <td>12</td>\n",
       "      <td>중소기업</td>\n",
       "      <td>4</td>\n",
       "      <td>825</td>\n",
       "    </tr>\n",
       "  </tbody>\n",
       "</table>\n",
       "<p>14810 rows × 11 columns</p>\n",
       "</div>"
      ],
      "text/plain": [
       "       university  grade  license  abroad  volunteer  intern         sector  \\\n",
       "0               4   3.50        0       1          0       0  음식료/호텔/리조트/여행   \n",
       "1               3   3.57        4       2          0       0  음식료/호텔/리조트/여행   \n",
       "2               1   4.19        4       1          0       1  음식료/호텔/리조트/여행   \n",
       "3               1   4.19        4       1          0       1  음식료/호텔/리조트/여행   \n",
       "4               3   3.63        1       1          3       2  음식료/호텔/리조트/여행   \n",
       "...           ...    ...      ...     ...        ...     ...            ...   \n",
       "14805           5   3.50        0       0          0       0          도매/소매   \n",
       "14806           2   3.31        0       1          0       0          도매/소매   \n",
       "14807           5   3.62        0       0          0       0          도매/소매   \n",
       "14808           5   3.60        2       0          0       0          도매/소매   \n",
       "14809           5   3.20        0       1          0       0      자동차/기계/조선   \n",
       "\n",
       "       sector_code  size  size_code  eng  \n",
       "0               10  중견기업          2    0  \n",
       "1               10  중견기업          2  900  \n",
       "2               10  중견기업          2  800  \n",
       "3               10  중견기업          2  800  \n",
       "4               10  중견기업          2  950  \n",
       "...            ...   ...        ...  ...  \n",
       "14805            4  중소기업          4    0  \n",
       "14806            4  중소기업          4    0  \n",
       "14807            4  중소기업          4    0  \n",
       "14808            4  중소기업          4    0  \n",
       "14809           12  중소기업          4  825  \n",
       "\n",
       "[14810 rows x 11 columns]"
      ]
     },
     "execution_count": 19,
     "metadata": {},
     "output_type": "execute_result"
    }
   ],
   "source": [
    "# 영어점수를 하나로 취합하여 보는게 나을 것 같다.\n",
    "df['eng']=df.iloc[:,2:5].max(axis = 1, numeric_only = True)\n",
    "df=df.drop(['toeic','toeic_speaking','Opic'],axis=1)\n",
    "df"
   ]
  },
  {
   "cell_type": "code",
   "execution_count": 20,
   "id": "9366ec90",
   "metadata": {},
   "outputs": [],
   "source": [
    "df = df[['university','grade', 'eng', 'license', 'abroad','volunteer', 'intern', 'sector', 'sector_code', 'size', 'size_code']]"
   ]
  },
  {
   "cell_type": "markdown",
   "id": "9dafbb7e",
   "metadata": {},
   "source": [
    "### 시각화(히스토그램)"
   ]
  },
  {
   "cell_type": "markdown",
   "id": "5ae731b0",
   "metadata": {},
   "source": [
    "#### 시각화 1"
   ]
  },
  {
   "cell_type": "code",
   "execution_count": 21,
   "id": "d01eaa07",
   "metadata": {},
   "outputs": [
    {
     "name": "stderr",
     "output_type": "stream",
     "text": [
      "C:\\ProgramData\\anaconda3\\Lib\\site-packages\\seaborn\\axisgrid.py:118: UserWarning: The figure layout has changed to tight\n",
      "  self._figure.tight_layout(*args, **kwargs)\n"
     ]
    },
    {
     "data": {
      "image/png": "[encoded data removed]",
      "text/plain": [
       "<Figure size 500x500 with 1 Axes>"
      ]
     },
     "metadata": {},
     "output_type": "display_data"
    },
    {
     "name": "stderr",
     "output_type": "stream",
     "text": [
      "C:\\ProgramData\\anaconda3\\Lib\\site-packages\\seaborn\\axisgrid.py:118: UserWarning: The figure layout has changed to tight\n",
      "  self._figure.tight_layout(*args, **kwargs)\n"
     ]
    },
    {
     "data": {
      "image/png": "[encoded data removed]",
      "text/plain": [
       "<Figure size 500x500 with 1 Axes>"
      ]
     },
     "metadata": {},
     "output_type": "display_data"
    },
    {
     "name": "stderr",
     "output_type": "stream",
     "text": [
      "C:\\ProgramData\\anaconda3\\Lib\\site-packages\\seaborn\\axisgrid.py:118: UserWarning: The figure layout has changed to tight\n",
      "  self._figure.tight_layout(*args, **kwargs)\n"
     ]
    },
    {
     "data": {
      "image/png": "[encoded data removed]",
      "text/plain": [
       "<Figure size 500x500 with 1 Axes>"
      ]
     },
     "metadata": {},
     "output_type": "display_data"
    },
    {
     "name": "stderr",
     "output_type": "stream",
     "text": [
      "C:\\ProgramData\\anaconda3\\Lib\\site-packages\\seaborn\\axisgrid.py:118: UserWarning: The figure layout has changed to tight\n",
      "  self._figure.tight_layout(*args, **kwargs)\n"
     ]
    },
    {
     "data": {
      "image/png": "[encoded data removed]",
      "text/plain": [
       "<Figure size 500x500 with 1 Axes>"
      ]
     },
     "metadata": {},
     "output_type": "display_data"
    },
    {
     "name": "stderr",
     "output_type": "stream",
     "text": [
      "C:\\ProgramData\\anaconda3\\Lib\\site-packages\\seaborn\\axisgrid.py:118: UserWarning: The figure layout has changed to tight\n",
      "  self._figure.tight_layout(*args, **kwargs)\n"
     ]
    },
    {
     "data": {
      "image/png": "[encoded data removed]",
      "text/plain": [
       "<Figure size 500x500 with 1 Axes>"
      ]
     },
     "metadata": {},
     "output_type": "display_data"
    },
    {
     "name": "stderr",
     "output_type": "stream",
     "text": [
      "C:\\ProgramData\\anaconda3\\Lib\\site-packages\\seaborn\\axisgrid.py:118: UserWarning: The figure layout has changed to tight\n",
      "  self._figure.tight_layout(*args, **kwargs)\n"
     ]
    },
    {
     "data": {
      "image/png": "[encoded data removed]",
      "text/plain": [
       "<Figure size 500x500 with 1 Axes>"
      ]
     },
     "metadata": {},
     "output_type": "display_data"
    },
    {
     "name": "stderr",
     "output_type": "stream",
     "text": [
      "C:\\ProgramData\\anaconda3\\Lib\\site-packages\\seaborn\\axisgrid.py:118: UserWarning: The figure layout has changed to tight\n",
      "  self._figure.tight_layout(*args, **kwargs)\n"
     ]
    },
    {
     "data": {
      "image/png": "[encoded data removed]",
      "text/plain": [
       "<Figure size 500x500 with 1 Axes>"
      ]
     },
     "metadata": {},
     "output_type": "display_data"
    },
    {
     "name": "stderr",
     "output_type": "stream",
     "text": [
      "C:\\ProgramData\\anaconda3\\Lib\\site-packages\\seaborn\\axisgrid.py:118: UserWarning: The figure layout has changed to tight\n",
      "  self._figure.tight_layout(*args, **kwargs)\n"
     ]
    },
    {
     "data": {
      "image/png": "[encoded data removed]",
      "text/plain": [
       "<Figure size 500x500 with 1 Axes>"
      ]
     },
     "metadata": {},
     "output_type": "display_data"
    },
    {
     "name": "stderr",
     "output_type": "stream",
     "text": [
      "C:\\ProgramData\\anaconda3\\Lib\\site-packages\\seaborn\\axisgrid.py:118: UserWarning: The figure layout has changed to tight\n",
      "  self._figure.tight_layout(*args, **kwargs)\n"
     ]
    },
    {
     "data": {
      "image/png": "[encoded data removed]",
      "text/plain": [
       "<Figure size 500x500 with 1 Axes>"
      ]
     },
     "metadata": {},
     "output_type": "display_data"
    }
   ],
   "source": [
    "for column in df.columns:\n",
    "    if df[column].dtype != 'object':\n",
    "        sns.displot(df[column])\n",
    "        plt.title(f'Distribution of {column}')\n",
    "        plt.show()\n",
    "        \n",
    "# 학점을 보면 0값이 많은 것은 알 수 있다. 학점을 입력하지 않은경우 (고졸이거나~)\n",
    "# 또한 0이 아닌 0과 1사이 소수점 값인 경우도 있는데, 이는 처리해야할 아웃라이어로 판단된다.\n",
    "\n",
    "# 그외 해외연수, 인턴쉽, 수상경력등은 거의 0~1 근처에 분포해있으며, 일부 10회 이상이 기록되나 이상치로 보기는 힘듬\n",
    "# 만일 머신러닝결과 학습이 잘 진행되지 않는다고 판단될 경우 추가적으로 제거. 현재는 문제 없을것으로 보임\n",
    "\n",
    "# 영어점수의 경우 취합을 했음에도 0점에 분포해 있는 경우가 많음\n",
    "# 이는 영어점수를 요구하는 기업이 아닐경우 영어점수를 따로 입력하지 않아 발생하는 문제로 판단됨\n",
    "# 따라서 영어점수 0점은 중앙값으로 대체하는 식으로 이상치를 처리하고자 함"
   ]
  },
  {
   "cell_type": "code",
   "execution_count": 22,
   "id": "b7ecbcbb",
   "metadata": {},
   "outputs": [
    {
     "data": {
      "text/plain": [
       "array([[<Axes: title={'center': 'university'}>,\n",
       "        <Axes: title={'center': 'grade'}>,\n",
       "        <Axes: title={'center': 'eng'}>],\n",
       "       [<Axes: title={'center': 'license'}>,\n",
       "        <Axes: title={'center': 'abroad'}>,\n",
       "        <Axes: title={'center': 'volunteer'}>],\n",
       "       [<Axes: title={'center': 'intern'}>,\n",
       "        <Axes: title={'center': 'sector_code'}>,\n",
       "        <Axes: title={'center': 'size_code'}>]], dtype=object)"
      ]
     },
     "execution_count": 22,
     "metadata": {},
     "output_type": "execute_result"
    },
    {
     "data": {
      "image/png": "[encoded data removed]",
      "text/plain": [
       "<Figure size 1000x500 with 9 Axes>"
      ]
     },
     "metadata": {},
     "output_type": "display_data"
    }
   ],
   "source": [
    "original_df = df\n",
    "original_df.hist(bins=20, figsize=(10,5))\n",
    "\n",
    "# 위 히스토그램 해석과 동일"
   ]
  },
  {
   "cell_type": "markdown",
   "id": "81d41a69",
   "metadata": {},
   "source": [
    "#### 시각화 2 (박스 플롯)"
   ]
  },
  {
   "cell_type": "code",
   "execution_count": 23,
   "id": "4436e35e",
   "metadata": {},
   "outputs": [
    {
     "data": {
      "image/png": "[encoded data removed]",
      "text/plain": [
       "<Figure size 640x480 with 1 Axes>"
      ]
     },
     "metadata": {},
     "output_type": "display_data"
    }
   ],
   "source": [
    "df.iloc[:,1:6].plot(kind = 'box');\n",
    "plt.title ('needed spec')\n",
    "plt.show();\n",
    "\n",
    "# 박스플롯으로 출력한 결과 각각의 데이터 범주가 다르고\n",
    "# 영어점수의 경우 특히 0~1000점 사이에 분포해 있기 때문에 식별을 위해선 minmaxscaler 등을 이용해 값 분포를 0~1사이에 일치시켜야 할 것으로 보임\n",
    "\n",
    "# 단, 이때 labelencoder로 라벨링된 대학, 계열, 전공값은 정규화가 진행되지 않도록 주의!"
   ]
  },
  {
   "cell_type": "markdown",
   "id": "e9236d1c",
   "metadata": {},
   "source": [
    "#### 시각화 결과\n",
    "- @ 데이터가 @한 부분이 이상해 처리가 필요하다. (처리해야하는 이유 설명)\n",
    "- @ 데이터에서 아웃라이어가 많으나 이는 처리할 이상치가 아니라 판단된다.(처리해야하는 이유 설명)\n",
    "- 따라서 @ 방법으로 처리하겠다."
   ]
  },
  {
   "cell_type": "markdown",
   "id": "ae74f1a1",
   "metadata": {},
   "source": [
    "#### ex) 학점 하위 25%가 3.4점인데 0점도 아니고 0.2~0.4점인 사람이 몇 있다\n",
    "- 이상한게 맞는것 같으니 삭제 or 중앙값으로 대체하겠다.\n",
    "\n",
    "#### ex) 봉사횟수 상위75%가 0회(1회)인데 11회인 사람이 있다\n",
    "- 실제로 그런사람이 있을 수 있으니 오류값이 아니라 판단되어 그대로 두겠다\n",
    "    - or 실제로 그렇다 하더라도 머신러닝에서 과적합/과소적합을 일으킬 요소로 보인다. 따라서 삭제한다."
   ]
  },
  {
   "cell_type": "markdown",
   "id": "c83c83b6",
   "metadata": {},
   "source": [
    "#### 추가적인 데이터 EDA 진행"
   ]
  },
  {
   "cell_type": "code",
   "execution_count": 24,
   "id": "15a7b4b0",
   "metadata": {},
   "outputs": [],
   "source": [
    "# 1. 학점 이상치 처리\n",
    "\n",
    "df.loc[df['grade']<1,'grade'] = df['grade'].median()"
   ]
  },
  {
   "cell_type": "code",
   "execution_count": 25,
   "id": "54a93b92",
   "metadata": {},
   "outputs": [],
   "source": [
    "# 2. 영어 이상치 처리\n",
    "df.loc[df['eng']<100,'eng'] = df['eng'].median()"
   ]
  },
  {
   "cell_type": "code",
   "execution_count": 26,
   "id": "7b3aab41",
   "metadata": {},
   "outputs": [
    {
     "data": {
      "text/plain": [
       "array([[<Axes: title={'center': 'university'}>,\n",
       "        <Axes: title={'center': 'grade'}>,\n",
       "        <Axes: title={'center': 'eng'}>],\n",
       "       [<Axes: title={'center': 'license'}>,\n",
       "        <Axes: title={'center': 'abroad'}>,\n",
       "        <Axes: title={'center': 'volunteer'}>],\n",
       "       [<Axes: title={'center': 'intern'}>,\n",
       "        <Axes: title={'center': 'sector_code'}>,\n",
       "        <Axes: title={'center': 'size_code'}>]], dtype=object)"
      ]
     },
     "execution_count": 26,
     "metadata": {},
     "output_type": "execute_result"
    },
    {
     "data": {
      "image/png": "[encoded data removed]",
      "text/plain": [
       "<Figure size 1000x500 with 9 Axes>"
      ]
     },
     "metadata": {},
     "output_type": "display_data"
    }
   ],
   "source": [
    "original_df = df\n",
    "original_df.hist(bins=20, figsize=(10,5))\n",
    "\n",
    "# 학점과 영어의 이상치가 성공적으로 사라진것을 확인할 수 있다.\n",
    "# 단 영어점수를 하나로 통일할 때 토익스피킹과 오픽을 레벨에따라 특정값을 부여했더니\n",
    "# 토익의 평탄화된 정규분포와 합쳐져 중간중간 삐죽삐죽 튀어나오는것을 확인할 수 있다.\n",
    "# 분석해보고 값이 이상하다면 추가적인 평탄화 작업이 필요할 수 있다."
   ]
  },
  {
   "cell_type": "code",
   "execution_count": 27,
   "id": "fadd07be",
   "metadata": {},
   "outputs": [
    {
     "data": {
      "text/html": [
       "<div>\n",
       "<style scoped>\n",
       "    .dataframe tbody tr th:only-of-type {\n",
       "        vertical-align: middle;\n",
       "    }\n",
       "\n",
       "    .dataframe tbody tr th {\n",
       "        vertical-align: top;\n",
       "    }\n",
       "\n",
       "    .dataframe thead th {\n",
       "        text-align: right;\n",
       "    }\n",
       "</style>\n",
       "<table border=\"1\" class=\"dataframe\">\n",
       "  <thead>\n",
       "    <tr style=\"text-align: right;\">\n",
       "      <th></th>\n",
       "      <th>university</th>\n",
       "      <th>grade</th>\n",
       "      <th>eng</th>\n",
       "      <th>license</th>\n",
       "      <th>abroad</th>\n",
       "      <th>volunteer</th>\n",
       "      <th>intern</th>\n",
       "      <th>sector</th>\n",
       "      <th>sector_code</th>\n",
       "      <th>size</th>\n",
       "      <th>size_code</th>\n",
       "    </tr>\n",
       "  </thead>\n",
       "  <tbody>\n",
       "    <tr>\n",
       "      <th>0</th>\n",
       "      <td>4</td>\n",
       "      <td>3.50</td>\n",
       "      <td>800</td>\n",
       "      <td>0</td>\n",
       "      <td>1</td>\n",
       "      <td>0</td>\n",
       "      <td>0</td>\n",
       "      <td>음식료/호텔/리조트/여행</td>\n",
       "      <td>10</td>\n",
       "      <td>중견기업</td>\n",
       "      <td>2</td>\n",
       "    </tr>\n",
       "    <tr>\n",
       "      <th>1</th>\n",
       "      <td>3</td>\n",
       "      <td>3.57</td>\n",
       "      <td>900</td>\n",
       "      <td>4</td>\n",
       "      <td>2</td>\n",
       "      <td>0</td>\n",
       "      <td>0</td>\n",
       "      <td>음식료/호텔/리조트/여행</td>\n",
       "      <td>10</td>\n",
       "      <td>중견기업</td>\n",
       "      <td>2</td>\n",
       "    </tr>\n",
       "    <tr>\n",
       "      <th>2</th>\n",
       "      <td>1</td>\n",
       "      <td>4.19</td>\n",
       "      <td>800</td>\n",
       "      <td>4</td>\n",
       "      <td>1</td>\n",
       "      <td>0</td>\n",
       "      <td>1</td>\n",
       "      <td>음식료/호텔/리조트/여행</td>\n",
       "      <td>10</td>\n",
       "      <td>중견기업</td>\n",
       "      <td>2</td>\n",
       "    </tr>\n",
       "    <tr>\n",
       "      <th>3</th>\n",
       "      <td>1</td>\n",
       "      <td>4.19</td>\n",
       "      <td>800</td>\n",
       "      <td>4</td>\n",
       "      <td>1</td>\n",
       "      <td>0</td>\n",
       "      <td>1</td>\n",
       "      <td>음식료/호텔/리조트/여행</td>\n",
       "      <td>10</td>\n",
       "      <td>중견기업</td>\n",
       "      <td>2</td>\n",
       "    </tr>\n",
       "    <tr>\n",
       "      <th>4</th>\n",
       "      <td>3</td>\n",
       "      <td>3.63</td>\n",
       "      <td>950</td>\n",
       "      <td>1</td>\n",
       "      <td>1</td>\n",
       "      <td>3</td>\n",
       "      <td>2</td>\n",
       "      <td>음식료/호텔/리조트/여행</td>\n",
       "      <td>10</td>\n",
       "      <td>중견기업</td>\n",
       "      <td>2</td>\n",
       "    </tr>\n",
       "  </tbody>\n",
       "</table>\n",
       "</div>"
      ],
      "text/plain": [
       "   university  grade  eng  license  abroad  volunteer  intern         sector  \\\n",
       "0           4   3.50  800        0       1          0       0  음식료/호텔/리조트/여행   \n",
       "1           3   3.57  900        4       2          0       0  음식료/호텔/리조트/여행   \n",
       "2           1   4.19  800        4       1          0       1  음식료/호텔/리조트/여행   \n",
       "3           1   4.19  800        4       1          0       1  음식료/호텔/리조트/여행   \n",
       "4           3   3.63  950        1       1          3       2  음식료/호텔/리조트/여행   \n",
       "\n",
       "   sector_code  size  size_code  \n",
       "0           10  중견기업          2  \n",
       "1           10  중견기업          2  \n",
       "2           10  중견기업          2  \n",
       "3           10  중견기업          2  \n",
       "4           10  중견기업          2  "
      ]
     },
     "execution_count": 27,
     "metadata": {},
     "output_type": "execute_result"
    }
   ],
   "source": [
    "df.head()"
   ]
  },
  {
   "cell_type": "code",
   "execution_count": 28,
   "id": "26950a24",
   "metadata": {},
   "outputs": [
    {
     "data": {
      "text/plain": [
       "sector\n",
       "건설/엔지니어링         1501\n",
       "광고/미디어/교육         339\n",
       "다업종기업/기타          484\n",
       "도매/소매             212\n",
       "병원                  2\n",
       "부동산                 3\n",
       "상사/유통/운송         1390\n",
       "섬유/패션             377\n",
       "은행/증권/보험         1817\n",
       "음식료/호텔/리조트/여행     921\n",
       "의약/화장품/생활화학       639\n",
       "자동차/기계/조선        1556\n",
       "전자/전기            1522\n",
       "정부/공공기관           931\n",
       "제조                211\n",
       "제지/가구/기타소비재       194\n",
       "제철/금속/비금속재료       593\n",
       "통신/IT             864\n",
       "화학/정유/에너지        1254\n",
       "dtype: int64"
      ]
     },
     "execution_count": 28,
     "metadata": {},
     "output_type": "execute_result"
    }
   ],
   "source": [
    "# 지나치게 작은 그룹은 삭제하려했으나\n",
    "\n",
    "## 어차피 주제에서 분야별- 기업규모별 분류에서 기업규모별로만 분류한다면 굳이 지울 필요는 없을듯합니다.\n",
    "df.groupby(\"sector\").size()"
   ]
  },
  {
   "cell_type": "code",
   "execution_count": 29,
   "id": "294b9ac1",
   "metadata": {},
   "outputs": [
    {
     "data": {
      "text/plain": [
       "sector\n",
       "건설/엔지니어링         1501\n",
       "광고/미디어/교육         339\n",
       "다업종기업/기타          484\n",
       "도매/소매             212\n",
       "병원                  2\n",
       "부동산                 3\n",
       "상사/유통/운송         1390\n",
       "섬유/패션             377\n",
       "은행/증권/보험         1817\n",
       "음식료/호텔/리조트/여행     921\n",
       "의약/화장품/생활화학       639\n",
       "자동차/기계/조선        1556\n",
       "전자/전기            1522\n",
       "정부/공공기관           931\n",
       "제조                211\n",
       "제지/가구/기타소비재       194\n",
       "제철/금속/비금속재료       593\n",
       "통신/IT             864\n",
       "화학/정유/에너지        1254\n",
       "dtype: int64"
      ]
     },
     "execution_count": 29,
     "metadata": {},
     "output_type": "execute_result"
    }
   ],
   "source": [
    "#df=df[df.sector != '병원']\n",
    "#df=df[df.sector != '부동산']\n",
    "df.groupby(\"sector\").size()"
   ]
  },
  {
   "cell_type": "code",
   "execution_count": 30,
   "id": "60e29e0d",
   "metadata": {},
   "outputs": [
    {
     "data": {
      "text/plain": [
       "size\n",
       "공기업      958\n",
       "대기업     5399\n",
       "중견기업    5191\n",
       "중소기업    3262\n",
       "dtype: int64"
      ]
     },
     "execution_count": 30,
     "metadata": {},
     "output_type": "execute_result"
    }
   ],
   "source": [
    "df.groupby(\"size\").size()"
   ]
  },
  {
   "cell_type": "code",
   "execution_count": 31,
   "id": "f0f9c1ec",
   "metadata": {},
   "outputs": [
    {
     "data": {
      "image/png": "[encoded data removed]",
      "text/plain": [
       "<Figure size 640x480 with 1 Axes>"
      ]
     },
     "metadata": {},
     "output_type": "display_data"
    }
   ],
   "source": [
    "# 박스플롯으로 보기 위해 minmaxscaling을 진행한다.\n",
    "\n",
    "from sklearn.preprocessing import MinMaxScaler\n",
    "mms =  MinMaxScaler()\n",
    "df_scaled =  mms.fit_transform(df.iloc[:,1:7])\n",
    "df_scaled = pd.DataFrame(df_scaled)\n",
    "df_scaled.columns =['grade' , 'eng','license','abroad','volunteer','intern']\n",
    "df_scaled.plot(kind = 'box');\n",
    "plt.title ('df_scaled')\n",
    "plt.show();\n",
    "\n",
    "# 진행 결과 아웃라이어가 굉장히 많은 것을 볼 수 있다 (아웃라이어 = 이상치 = 박스플롯 범위 바깥의 원들)\n",
    "# 다만 히스토그램으로 확인해본 결과 값이 크게 이상하고 빈도수가 높은것은 아니라고 생각되므로 분석을 우선적으로 진행해보도록 하겠다."
   ]
  },
  {
   "cell_type": "code",
   "execution_count": 32,
   "id": "28b62b43",
   "metadata": {},
   "outputs": [
    {
     "data": {
      "text/html": [
       "<div>\n",
       "<style scoped>\n",
       "    .dataframe tbody tr th:only-of-type {\n",
       "        vertical-align: middle;\n",
       "    }\n",
       "\n",
       "    .dataframe tbody tr th {\n",
       "        vertical-align: top;\n",
       "    }\n",
       "\n",
       "    .dataframe thead th {\n",
       "        text-align: right;\n",
       "    }\n",
       "</style>\n",
       "<table border=\"1\" class=\"dataframe\">\n",
       "  <thead>\n",
       "    <tr style=\"text-align: right;\">\n",
       "      <th></th>\n",
       "      <th>university</th>\n",
       "      <th>grade</th>\n",
       "      <th>eng</th>\n",
       "      <th>license</th>\n",
       "      <th>abroad</th>\n",
       "      <th>volunteer</th>\n",
       "      <th>intern</th>\n",
       "      <th>sector</th>\n",
       "      <th>sector_code</th>\n",
       "      <th>size</th>\n",
       "      <th>size_code</th>\n",
       "    </tr>\n",
       "  </thead>\n",
       "  <tbody>\n",
       "    <tr>\n",
       "      <th>0</th>\n",
       "      <td>4</td>\n",
       "      <td>3.50</td>\n",
       "      <td>800</td>\n",
       "      <td>0</td>\n",
       "      <td>1</td>\n",
       "      <td>0</td>\n",
       "      <td>0</td>\n",
       "      <td>음식료/호텔/리조트/여행</td>\n",
       "      <td>10</td>\n",
       "      <td>중견기업</td>\n",
       "      <td>2</td>\n",
       "    </tr>\n",
       "    <tr>\n",
       "      <th>1</th>\n",
       "      <td>3</td>\n",
       "      <td>3.57</td>\n",
       "      <td>900</td>\n",
       "      <td>4</td>\n",
       "      <td>2</td>\n",
       "      <td>0</td>\n",
       "      <td>0</td>\n",
       "      <td>음식료/호텔/리조트/여행</td>\n",
       "      <td>10</td>\n",
       "      <td>중견기업</td>\n",
       "      <td>2</td>\n",
       "    </tr>\n",
       "  </tbody>\n",
       "</table>\n",
       "</div>"
      ],
      "text/plain": [
       "   university  grade  eng  license  abroad  volunteer  intern         sector  \\\n",
       "0           4   3.50  800        0       1          0       0  음식료/호텔/리조트/여행   \n",
       "1           3   3.57  900        4       2          0       0  음식료/호텔/리조트/여행   \n",
       "\n",
       "   sector_code  size  size_code  \n",
       "0           10  중견기업          2  \n",
       "1           10  중견기업          2  "
      ]
     },
     "execution_count": 32,
     "metadata": {},
     "output_type": "execute_result"
    }
   ],
   "source": [
    "df.head(2)"
   ]
  },
  {
   "cell_type": "code",
   "execution_count": 33,
   "id": "e88067e9",
   "metadata": {},
   "outputs": [
    {
     "data": {
      "text/html": [
       "<div>\n",
       "<style scoped>\n",
       "    .dataframe tbody tr th:only-of-type {\n",
       "        vertical-align: middle;\n",
       "    }\n",
       "\n",
       "    .dataframe tbody tr th {\n",
       "        vertical-align: top;\n",
       "    }\n",
       "\n",
       "    .dataframe thead th {\n",
       "        text-align: right;\n",
       "    }\n",
       "</style>\n",
       "<table border=\"1\" class=\"dataframe\">\n",
       "  <thead>\n",
       "    <tr style=\"text-align: right;\">\n",
       "      <th></th>\n",
       "      <th>grade</th>\n",
       "      <th>eng</th>\n",
       "      <th>license</th>\n",
       "      <th>abroad</th>\n",
       "      <th>volunteer</th>\n",
       "      <th>intern</th>\n",
       "    </tr>\n",
       "  </thead>\n",
       "  <tbody>\n",
       "    <tr>\n",
       "      <th>0</th>\n",
       "      <td>0.666667</td>\n",
       "      <td>0.776471</td>\n",
       "      <td>0.00</td>\n",
       "      <td>0.071429</td>\n",
       "      <td>0.0</td>\n",
       "      <td>0.0</td>\n",
       "    </tr>\n",
       "    <tr>\n",
       "      <th>1</th>\n",
       "      <td>0.690000</td>\n",
       "      <td>0.894118</td>\n",
       "      <td>0.25</td>\n",
       "      <td>0.142857</td>\n",
       "      <td>0.0</td>\n",
       "      <td>0.0</td>\n",
       "    </tr>\n",
       "  </tbody>\n",
       "</table>\n",
       "</div>"
      ],
      "text/plain": [
       "      grade       eng  license    abroad  volunteer  intern\n",
       "0  0.666667  0.776471     0.00  0.071429        0.0     0.0\n",
       "1  0.690000  0.894118     0.25  0.142857        0.0     0.0"
      ]
     },
     "execution_count": 33,
     "metadata": {},
     "output_type": "execute_result"
    }
   ],
   "source": [
    "df_scaled.head(2)"
   ]
  },
  {
   "cell_type": "code",
   "execution_count": 34,
   "id": "461eabd6",
   "metadata": {},
   "outputs": [],
   "source": [
    "df.iloc[:,1:7]=df_scaled.iloc[:,0:6]"
   ]
  },
  {
   "cell_type": "code",
   "execution_count": 35,
   "id": "a422edcc",
   "metadata": {},
   "outputs": [
    {
     "data": {
      "text/html": [
       "<div>\n",
       "<style scoped>\n",
       "    .dataframe tbody tr th:only-of-type {\n",
       "        vertical-align: middle;\n",
       "    }\n",
       "\n",
       "    .dataframe tbody tr th {\n",
       "        vertical-align: top;\n",
       "    }\n",
       "\n",
       "    .dataframe thead th {\n",
       "        text-align: right;\n",
       "    }\n",
       "</style>\n",
       "<table border=\"1\" class=\"dataframe\">\n",
       "  <thead>\n",
       "    <tr style=\"text-align: right;\">\n",
       "      <th></th>\n",
       "      <th>university</th>\n",
       "      <th>grade</th>\n",
       "      <th>eng</th>\n",
       "      <th>license</th>\n",
       "      <th>abroad</th>\n",
       "      <th>volunteer</th>\n",
       "      <th>intern</th>\n",
       "      <th>sector</th>\n",
       "      <th>sector_code</th>\n",
       "      <th>size</th>\n",
       "      <th>size_code</th>\n",
       "    </tr>\n",
       "  </thead>\n",
       "  <tbody>\n",
       "    <tr>\n",
       "      <th>0</th>\n",
       "      <td>4</td>\n",
       "      <td>0.666667</td>\n",
       "      <td>0.776471</td>\n",
       "      <td>0.00</td>\n",
       "      <td>0.071429</td>\n",
       "      <td>0.0</td>\n",
       "      <td>0.0</td>\n",
       "      <td>음식료/호텔/리조트/여행</td>\n",
       "      <td>10</td>\n",
       "      <td>중견기업</td>\n",
       "      <td>2</td>\n",
       "    </tr>\n",
       "    <tr>\n",
       "      <th>1</th>\n",
       "      <td>3</td>\n",
       "      <td>0.690000</td>\n",
       "      <td>0.894118</td>\n",
       "      <td>0.25</td>\n",
       "      <td>0.142857</td>\n",
       "      <td>0.0</td>\n",
       "      <td>0.0</td>\n",
       "      <td>음식료/호텔/리조트/여행</td>\n",
       "      <td>10</td>\n",
       "      <td>중견기업</td>\n",
       "      <td>2</td>\n",
       "    </tr>\n",
       "  </tbody>\n",
       "</table>\n",
       "</div>"
      ],
      "text/plain": [
       "   university     grade       eng  license    abroad  volunteer  intern  \\\n",
       "0           4  0.666667  0.776471     0.00  0.071429        0.0     0.0   \n",
       "1           3  0.690000  0.894118     0.25  0.142857        0.0     0.0   \n",
       "\n",
       "          sector  sector_code  size  size_code  \n",
       "0  음식료/호텔/리조트/여행           10  중견기업          2  \n",
       "1  음식료/호텔/리조트/여행           10  중견기업          2  "
      ]
     },
     "execution_count": 35,
     "metadata": {},
     "output_type": "execute_result"
    }
   ],
   "source": [
    "df.head(2)"
   ]
  },
  {
   "cell_type": "markdown",
   "id": "a7656a22",
   "metadata": {},
   "source": [
    "#### 추가 EDA 진행 2 [15]ML 참고"
   ]
  },
  {
   "cell_type": "code",
   "execution_count": 36,
   "id": "81493a7f",
   "metadata": {},
   "outputs": [],
   "source": [
    "def  std_exclude(df):\n",
    "    columns  =  df [['grade' , 'eng','license','abroad','volunteer','intern']].columns     \n",
    "    for col in columns:\n",
    "        mean = df[col].mean();\n",
    "        std  = df[col].std(); \n",
    "        b = np.abs(df[col]-mean) / std\n",
    "        df = df[(b < 2 )]     \n",
    "    return df \n",
    "df_scaled_fixed = std_exclude(df)\n"
   ]
  },
  {
   "cell_type": "code",
   "execution_count": 37,
   "id": "7cee4cbf",
   "metadata": {},
   "outputs": [
    {
     "data": {
      "text/html": [
       "<div>\n",
       "<style scoped>\n",
       "    .dataframe tbody tr th:only-of-type {\n",
       "        vertical-align: middle;\n",
       "    }\n",
       "\n",
       "    .dataframe tbody tr th {\n",
       "        vertical-align: top;\n",
       "    }\n",
       "\n",
       "    .dataframe thead th {\n",
       "        text-align: right;\n",
       "    }\n",
       "</style>\n",
       "<table border=\"1\" class=\"dataframe\">\n",
       "  <thead>\n",
       "    <tr style=\"text-align: right;\">\n",
       "      <th></th>\n",
       "      <th>university</th>\n",
       "      <th>grade</th>\n",
       "      <th>eng</th>\n",
       "      <th>license</th>\n",
       "      <th>abroad</th>\n",
       "      <th>volunteer</th>\n",
       "      <th>intern</th>\n",
       "      <th>sector</th>\n",
       "      <th>sector_code</th>\n",
       "      <th>size</th>\n",
       "      <th>size_code</th>\n",
       "    </tr>\n",
       "  </thead>\n",
       "  <tbody>\n",
       "    <tr>\n",
       "      <th>0</th>\n",
       "      <td>4</td>\n",
       "      <td>0.666667</td>\n",
       "      <td>0.776471</td>\n",
       "      <td>0.0000</td>\n",
       "      <td>0.071429</td>\n",
       "      <td>0.0000</td>\n",
       "      <td>0.000000</td>\n",
       "      <td>음식료/호텔/리조트/여행</td>\n",
       "      <td>10</td>\n",
       "      <td>중견기업</td>\n",
       "      <td>2</td>\n",
       "    </tr>\n",
       "    <tr>\n",
       "      <th>2</th>\n",
       "      <td>1</td>\n",
       "      <td>0.896667</td>\n",
       "      <td>0.776471</td>\n",
       "      <td>0.2500</td>\n",
       "      <td>0.071429</td>\n",
       "      <td>0.0000</td>\n",
       "      <td>0.090909</td>\n",
       "      <td>음식료/호텔/리조트/여행</td>\n",
       "      <td>10</td>\n",
       "      <td>중견기업</td>\n",
       "      <td>2</td>\n",
       "    </tr>\n",
       "    <tr>\n",
       "      <th>3</th>\n",
       "      <td>1</td>\n",
       "      <td>0.896667</td>\n",
       "      <td>0.776471</td>\n",
       "      <td>0.2500</td>\n",
       "      <td>0.071429</td>\n",
       "      <td>0.0000</td>\n",
       "      <td>0.090909</td>\n",
       "      <td>음식료/호텔/리조트/여행</td>\n",
       "      <td>10</td>\n",
       "      <td>중견기업</td>\n",
       "      <td>2</td>\n",
       "    </tr>\n",
       "    <tr>\n",
       "      <th>6</th>\n",
       "      <td>2</td>\n",
       "      <td>0.666667</td>\n",
       "      <td>0.941176</td>\n",
       "      <td>0.0625</td>\n",
       "      <td>0.000000</td>\n",
       "      <td>0.0625</td>\n",
       "      <td>0.000000</td>\n",
       "      <td>음식료/호텔/리조트/여행</td>\n",
       "      <td>10</td>\n",
       "      <td>중견기업</td>\n",
       "      <td>2</td>\n",
       "    </tr>\n",
       "    <tr>\n",
       "      <th>7</th>\n",
       "      <td>3</td>\n",
       "      <td>0.756667</td>\n",
       "      <td>0.652941</td>\n",
       "      <td>0.1250</td>\n",
       "      <td>0.000000</td>\n",
       "      <td>0.0000</td>\n",
       "      <td>0.000000</td>\n",
       "      <td>음식료/호텔/리조트/여행</td>\n",
       "      <td>10</td>\n",
       "      <td>중견기업</td>\n",
       "      <td>2</td>\n",
       "    </tr>\n",
       "    <tr>\n",
       "      <th>...</th>\n",
       "      <td>...</td>\n",
       "      <td>...</td>\n",
       "      <td>...</td>\n",
       "      <td>...</td>\n",
       "      <td>...</td>\n",
       "      <td>...</td>\n",
       "      <td>...</td>\n",
       "      <td>...</td>\n",
       "      <td>...</td>\n",
       "      <td>...</td>\n",
       "      <td>...</td>\n",
       "    </tr>\n",
       "    <tr>\n",
       "      <th>14805</th>\n",
       "      <td>5</td>\n",
       "      <td>0.666667</td>\n",
       "      <td>0.776471</td>\n",
       "      <td>0.0000</td>\n",
       "      <td>0.000000</td>\n",
       "      <td>0.0000</td>\n",
       "      <td>0.000000</td>\n",
       "      <td>도매/소매</td>\n",
       "      <td>4</td>\n",
       "      <td>중소기업</td>\n",
       "      <td>4</td>\n",
       "    </tr>\n",
       "    <tr>\n",
       "      <th>14806</th>\n",
       "      <td>2</td>\n",
       "      <td>0.603333</td>\n",
       "      <td>0.776471</td>\n",
       "      <td>0.0000</td>\n",
       "      <td>0.071429</td>\n",
       "      <td>0.0000</td>\n",
       "      <td>0.000000</td>\n",
       "      <td>도매/소매</td>\n",
       "      <td>4</td>\n",
       "      <td>중소기업</td>\n",
       "      <td>4</td>\n",
       "    </tr>\n",
       "    <tr>\n",
       "      <th>14807</th>\n",
       "      <td>5</td>\n",
       "      <td>0.706667</td>\n",
       "      <td>0.776471</td>\n",
       "      <td>0.0000</td>\n",
       "      <td>0.000000</td>\n",
       "      <td>0.0000</td>\n",
       "      <td>0.000000</td>\n",
       "      <td>도매/소매</td>\n",
       "      <td>4</td>\n",
       "      <td>중소기업</td>\n",
       "      <td>4</td>\n",
       "    </tr>\n",
       "    <tr>\n",
       "      <th>14808</th>\n",
       "      <td>5</td>\n",
       "      <td>0.700000</td>\n",
       "      <td>0.776471</td>\n",
       "      <td>0.1250</td>\n",
       "      <td>0.000000</td>\n",
       "      <td>0.0000</td>\n",
       "      <td>0.000000</td>\n",
       "      <td>도매/소매</td>\n",
       "      <td>4</td>\n",
       "      <td>중소기업</td>\n",
       "      <td>4</td>\n",
       "    </tr>\n",
       "    <tr>\n",
       "      <th>14809</th>\n",
       "      <td>5</td>\n",
       "      <td>0.566667</td>\n",
       "      <td>0.805882</td>\n",
       "      <td>0.0000</td>\n",
       "      <td>0.071429</td>\n",
       "      <td>0.0000</td>\n",
       "      <td>0.000000</td>\n",
       "      <td>자동차/기계/조선</td>\n",
       "      <td>12</td>\n",
       "      <td>중소기업</td>\n",
       "      <td>4</td>\n",
       "    </tr>\n",
       "  </tbody>\n",
       "</table>\n",
       "<p>10765 rows × 11 columns</p>\n",
       "</div>"
      ],
      "text/plain": [
       "       university     grade       eng  license    abroad  volunteer    intern  \\\n",
       "0               4  0.666667  0.776471   0.0000  0.071429     0.0000  0.000000   \n",
       "2               1  0.896667  0.776471   0.2500  0.071429     0.0000  0.090909   \n",
       "3               1  0.896667  0.776471   0.2500  0.071429     0.0000  0.090909   \n",
       "6               2  0.666667  0.941176   0.0625  0.000000     0.0625  0.000000   \n",
       "7               3  0.756667  0.652941   0.1250  0.000000     0.0000  0.000000   \n",
       "...           ...       ...       ...      ...       ...        ...       ...   \n",
       "14805           5  0.666667  0.776471   0.0000  0.000000     0.0000  0.000000   \n",
       "14806           2  0.603333  0.776471   0.0000  0.071429     0.0000  0.000000   \n",
       "14807           5  0.706667  0.776471   0.0000  0.000000     0.0000  0.000000   \n",
       "14808           5  0.700000  0.776471   0.1250  0.000000     0.0000  0.000000   \n",
       "14809           5  0.566667  0.805882   0.0000  0.071429     0.0000  0.000000   \n",
       "\n",
       "              sector  sector_code  size  size_code  \n",
       "0      음식료/호텔/리조트/여행           10  중견기업          2  \n",
       "2      음식료/호텔/리조트/여행           10  중견기업          2  \n",
       "3      음식료/호텔/리조트/여행           10  중견기업          2  \n",
       "6      음식료/호텔/리조트/여행           10  중견기업          2  \n",
       "7      음식료/호텔/리조트/여행           10  중견기업          2  \n",
       "...              ...          ...   ...        ...  \n",
       "14805          도매/소매            4  중소기업          4  \n",
       "14806          도매/소매            4  중소기업          4  \n",
       "14807          도매/소매            4  중소기업          4  \n",
       "14808          도매/소매            4  중소기업          4  \n",
       "14809      자동차/기계/조선           12  중소기업          4  \n",
       "\n",
       "[10765 rows x 11 columns]"
      ]
     },
     "execution_count": 37,
     "metadata": {},
     "output_type": "execute_result"
    }
   ],
   "source": [
    "df_scaled_fixed"
   ]
  },
  {
   "cell_type": "code",
   "execution_count": 38,
   "id": "875516be",
   "metadata": {},
   "outputs": [
    {
     "data": {
      "image/png": "[encoded data removed]",
      "text/plain": [
       "<Figure size 640x480 with 1 Axes>"
      ]
     },
     "metadata": {},
     "output_type": "display_data"
    }
   ],
   "source": [
    "df_scaled_fixed.plot(kind = 'box');\n",
    "plt.title ('df_scaled')\n",
    "plt.show();"
   ]
  },
  {
   "cell_type": "markdown",
   "id": "111a0287",
   "metadata": {},
   "source": [
    "#### 시각화 3 ([8]ML_로지스틱회귀 참고)"
   ]
  },
  {
   "cell_type": "code",
   "execution_count": 39,
   "id": "c14a2698",
   "metadata": {},
   "outputs": [],
   "source": [
    "# 이 그림 해석하려면 일단 코드 뜯어봐야겠는데 오늘 시간이없어서 거기까진 안될듯합니다.\n",
    "\n",
    "\n",
    "#subset = df.iloc[:,8:]\n",
    "\n",
    "#subset[\"MedHouseVal\"] = pd.qcut(subset[\"MedHouseVal\"], 6, retbins=False)    # 해석부탁요\n",
    "#subset[\"MedHouseVal\"] = subset[\"MedHouseVal\"].apply(lambda x: x.mid)        # 22\n",
    "#sns.pairplot(data=subset, hue=\"분석하고자 하는 값? 모르겠음. 일단 그림넣으려고 grade 넣고 돌렸습니다. \", palette=\"viridis\")\n",
    "#plt.savefig('plot01.png')"
   ]
  },
  {
   "cell_type": "markdown",
   "id": "342ea177",
   "metadata": {},
   "source": [
    "#### 시각화 4 상관관계 분석"
   ]
  },
  {
   "cell_type": "code",
   "execution_count": 40,
   "id": "77efd740",
   "metadata": {},
   "outputs": [
    {
     "data": {
      "text/plain": [
       "<Axes: >"
      ]
     },
     "execution_count": 40,
     "metadata": {},
     "output_type": "execute_result"
    },
    {
     "data": {
      "image/png": "[encoded data removed]",
      "text/plain": [
       "<Figure size 640x480 with 2 Axes>"
      ]
     },
     "metadata": {},
     "output_type": "display_data"
    }
   ],
   "source": [
    "correlation_matrix = df_scaled_fixed.iloc[:,1:7].corr()\n",
    "\n",
    "# Heatmap으로 상관 관계 시각화\n",
    "sns.heatmap(correlation_matrix, annot=True, cmap='coolwarm', fmt=\".2f\")\n",
    "\n",
    "# 인턴과 봉사 상관관계가 있는것으로 나타나지만\n",
    "# 대부분의 값이 0이었던 칼럼으로 그저 유사한 형태를 띄는것 판단됨"
   ]
  },
  {
   "cell_type": "markdown",
   "id": "81a6eb6f",
   "metadata": {},
   "source": [
    "## 머신러닝 실행"
   ]
  },
  {
   "cell_type": "code",
   "execution_count": 41,
   "id": "473ee776",
   "metadata": {},
   "outputs": [
    {
     "data": {
      "text/html": [
       "<div>\n",
       "<style scoped>\n",
       "    .dataframe tbody tr th:only-of-type {\n",
       "        vertical-align: middle;\n",
       "    }\n",
       "\n",
       "    .dataframe tbody tr th {\n",
       "        vertical-align: top;\n",
       "    }\n",
       "\n",
       "    .dataframe thead th {\n",
       "        text-align: right;\n",
       "    }\n",
       "</style>\n",
       "<table border=\"1\" class=\"dataframe\">\n",
       "  <thead>\n",
       "    <tr style=\"text-align: right;\">\n",
       "      <th></th>\n",
       "      <th>university</th>\n",
       "      <th>grade</th>\n",
       "      <th>eng</th>\n",
       "      <th>license</th>\n",
       "      <th>abroad</th>\n",
       "      <th>volunteer</th>\n",
       "      <th>intern</th>\n",
       "      <th>sector</th>\n",
       "      <th>sector_code</th>\n",
       "      <th>size</th>\n",
       "      <th>size_code</th>\n",
       "    </tr>\n",
       "  </thead>\n",
       "  <tbody>\n",
       "    <tr>\n",
       "      <th>0</th>\n",
       "      <td>4</td>\n",
       "      <td>0.666667</td>\n",
       "      <td>0.776471</td>\n",
       "      <td>0.00</td>\n",
       "      <td>0.071429</td>\n",
       "      <td>0.0</td>\n",
       "      <td>0.000000</td>\n",
       "      <td>음식료/호텔/리조트/여행</td>\n",
       "      <td>10</td>\n",
       "      <td>중견기업</td>\n",
       "      <td>2</td>\n",
       "    </tr>\n",
       "    <tr>\n",
       "      <th>2</th>\n",
       "      <td>1</td>\n",
       "      <td>0.896667</td>\n",
       "      <td>0.776471</td>\n",
       "      <td>0.25</td>\n",
       "      <td>0.071429</td>\n",
       "      <td>0.0</td>\n",
       "      <td>0.090909</td>\n",
       "      <td>음식료/호텔/리조트/여행</td>\n",
       "      <td>10</td>\n",
       "      <td>중견기업</td>\n",
       "      <td>2</td>\n",
       "    </tr>\n",
       "  </tbody>\n",
       "</table>\n",
       "</div>"
      ],
      "text/plain": [
       "   university     grade       eng  license    abroad  volunteer    intern  \\\n",
       "0           4  0.666667  0.776471     0.00  0.071429        0.0  0.000000   \n",
       "2           1  0.896667  0.776471     0.25  0.071429        0.0  0.090909   \n",
       "\n",
       "          sector  sector_code  size  size_code  \n",
       "0  음식료/호텔/리조트/여행           10  중견기업          2  \n",
       "2  음식료/호텔/리조트/여행           10  중견기업          2  "
      ]
     },
     "execution_count": 41,
     "metadata": {},
     "output_type": "execute_result"
    }
   ],
   "source": [
    "df_scaled_fixed.head(2)"
   ]
  },
  {
   "cell_type": "code",
   "execution_count": 42,
   "id": "14ab40dd",
   "metadata": {},
   "outputs": [
    {
     "data": {
      "text/html": [
       "<div>\n",
       "<style scoped>\n",
       "    .dataframe tbody tr th:only-of-type {\n",
       "        vertical-align: middle;\n",
       "    }\n",
       "\n",
       "    .dataframe tbody tr th {\n",
       "        vertical-align: top;\n",
       "    }\n",
       "\n",
       "    .dataframe thead th {\n",
       "        text-align: right;\n",
       "    }\n",
       "</style>\n",
       "<table border=\"1\" class=\"dataframe\">\n",
       "  <thead>\n",
       "    <tr style=\"text-align: right;\">\n",
       "      <th></th>\n",
       "      <th>university</th>\n",
       "      <th>grade</th>\n",
       "      <th>eng</th>\n",
       "      <th>license</th>\n",
       "      <th>abroad</th>\n",
       "      <th>volunteer</th>\n",
       "      <th>intern</th>\n",
       "      <th>sector</th>\n",
       "      <th>sector_code</th>\n",
       "      <th>size</th>\n",
       "      <th>size_code</th>\n",
       "      <th>code</th>\n",
       "    </tr>\n",
       "  </thead>\n",
       "  <tbody>\n",
       "    <tr>\n",
       "      <th>0</th>\n",
       "      <td>4</td>\n",
       "      <td>0.666667</td>\n",
       "      <td>0.776471</td>\n",
       "      <td>0.00</td>\n",
       "      <td>0.071429</td>\n",
       "      <td>0.0</td>\n",
       "      <td>0.000000</td>\n",
       "      <td>음식료/호텔/리조트/여행</td>\n",
       "      <td>10</td>\n",
       "      <td>중견기업</td>\n",
       "      <td>2</td>\n",
       "      <td>음식료/호텔/리조트/여행-중견기업</td>\n",
       "    </tr>\n",
       "    <tr>\n",
       "      <th>2</th>\n",
       "      <td>1</td>\n",
       "      <td>0.896667</td>\n",
       "      <td>0.776471</td>\n",
       "      <td>0.25</td>\n",
       "      <td>0.071429</td>\n",
       "      <td>0.0</td>\n",
       "      <td>0.090909</td>\n",
       "      <td>음식료/호텔/리조트/여행</td>\n",
       "      <td>10</td>\n",
       "      <td>중견기업</td>\n",
       "      <td>2</td>\n",
       "      <td>음식료/호텔/리조트/여행-중견기업</td>\n",
       "    </tr>\n",
       "  </tbody>\n",
       "</table>\n",
       "</div>"
      ],
      "text/plain": [
       "   university     grade       eng  license    abroad  volunteer    intern  \\\n",
       "0           4  0.666667  0.776471     0.00  0.071429        0.0  0.000000   \n",
       "2           1  0.896667  0.776471     0.25  0.071429        0.0  0.090909   \n",
       "\n",
       "          sector  sector_code  size  size_code                code  \n",
       "0  음식료/호텔/리조트/여행           10  중견기업          2  음식료/호텔/리조트/여행-중견기업  \n",
       "2  음식료/호텔/리조트/여행           10  중견기업          2  음식료/호텔/리조트/여행-중견기업  "
      ]
     },
     "execution_count": 42,
     "metadata": {},
     "output_type": "execute_result"
    }
   ],
   "source": [
    "df2 = df_scaled_fixed\n",
    "df2['code'] = df2[\"sector\"].map(str) + '-' +  df2[\"size\"]\n",
    "df2.head(2)"
   ]
  },
  {
   "cell_type": "code",
   "execution_count": 43,
   "id": "eda34c44",
   "metadata": {},
   "outputs": [
    {
     "data": {
      "text/html": [
       "<div>\n",
       "<style scoped>\n",
       "    .dataframe tbody tr th:only-of-type {\n",
       "        vertical-align: middle;\n",
       "    }\n",
       "\n",
       "    .dataframe tbody tr th {\n",
       "        vertical-align: top;\n",
       "    }\n",
       "\n",
       "    .dataframe thead th {\n",
       "        text-align: right;\n",
       "    }\n",
       "</style>\n",
       "<table border=\"1\" class=\"dataframe\">\n",
       "  <thead>\n",
       "    <tr style=\"text-align: right;\">\n",
       "      <th></th>\n",
       "      <th>university</th>\n",
       "      <th>grade</th>\n",
       "      <th>eng</th>\n",
       "      <th>license</th>\n",
       "      <th>abroad</th>\n",
       "      <th>volunteer</th>\n",
       "      <th>intern</th>\n",
       "    </tr>\n",
       "  </thead>\n",
       "  <tbody>\n",
       "    <tr>\n",
       "      <th>count</th>\n",
       "      <td>10765.000000</td>\n",
       "      <td>10765.000000</td>\n",
       "      <td>10765.000000</td>\n",
       "      <td>10765.000000</td>\n",
       "      <td>10765.000000</td>\n",
       "      <td>10765.000000</td>\n",
       "      <td>10765.000000</td>\n",
       "    </tr>\n",
       "    <tr>\n",
       "      <th>mean</th>\n",
       "      <td>3.393683</td>\n",
       "      <td>0.734452</td>\n",
       "      <td>0.812403</td>\n",
       "      <td>0.072538</td>\n",
       "      <td>0.013702</td>\n",
       "      <td>0.016767</td>\n",
       "      <td>0.011713</td>\n",
       "    </tr>\n",
       "    <tr>\n",
       "      <th>std</th>\n",
       "      <td>1.597668</td>\n",
       "      <td>0.092689</td>\n",
       "      <td>0.073468</td>\n",
       "      <td>0.077060</td>\n",
       "      <td>0.028125</td>\n",
       "      <td>0.035153</td>\n",
       "      <td>0.030458</td>\n",
       "    </tr>\n",
       "    <tr>\n",
       "      <th>min</th>\n",
       "      <td>0.000000</td>\n",
       "      <td>0.513333</td>\n",
       "      <td>0.629412</td>\n",
       "      <td>0.000000</td>\n",
       "      <td>0.000000</td>\n",
       "      <td>0.000000</td>\n",
       "      <td>0.000000</td>\n",
       "    </tr>\n",
       "    <tr>\n",
       "      <th>25%</th>\n",
       "      <td>2.000000</td>\n",
       "      <td>0.670000</td>\n",
       "      <td>0.776471</td>\n",
       "      <td>0.000000</td>\n",
       "      <td>0.000000</td>\n",
       "      <td>0.000000</td>\n",
       "      <td>0.000000</td>\n",
       "    </tr>\n",
       "    <tr>\n",
       "      <th>50%</th>\n",
       "      <td>4.000000</td>\n",
       "      <td>0.723333</td>\n",
       "      <td>0.776471</td>\n",
       "      <td>0.062500</td>\n",
       "      <td>0.000000</td>\n",
       "      <td>0.000000</td>\n",
       "      <td>0.000000</td>\n",
       "    </tr>\n",
       "    <tr>\n",
       "      <th>75%</th>\n",
       "      <td>5.000000</td>\n",
       "      <td>0.800000</td>\n",
       "      <td>0.864706</td>\n",
       "      <td>0.125000</td>\n",
       "      <td>0.000000</td>\n",
       "      <td>0.000000</td>\n",
       "      <td>0.000000</td>\n",
       "    </tr>\n",
       "    <tr>\n",
       "      <th>max</th>\n",
       "      <td>6.000000</td>\n",
       "      <td>0.950000</td>\n",
       "      <td>0.988235</td>\n",
       "      <td>0.250000</td>\n",
       "      <td>0.071429</td>\n",
       "      <td>0.125000</td>\n",
       "      <td>0.090909</td>\n",
       "    </tr>\n",
       "  </tbody>\n",
       "</table>\n",
       "</div>"
      ],
      "text/plain": [
       "         university         grade           eng       license        abroad  \\\n",
       "count  10765.000000  10765.000000  10765.000000  10765.000000  10765.000000   \n",
       "mean       3.393683      0.734452      0.812403      0.072538      0.013702   \n",
       "std        1.597668      0.092689      0.073468      0.077060      0.028125   \n",
       "min        0.000000      0.513333      0.629412      0.000000      0.000000   \n",
       "25%        2.000000      0.670000      0.776471      0.000000      0.000000   \n",
       "50%        4.000000      0.723333      0.776471      0.062500      0.000000   \n",
       "75%        5.000000      0.800000      0.864706      0.125000      0.000000   \n",
       "max        6.000000      0.950000      0.988235      0.250000      0.071429   \n",
       "\n",
       "          volunteer        intern  \n",
       "count  10765.000000  10765.000000  \n",
       "mean       0.016767      0.011713  \n",
       "std        0.035153      0.030458  \n",
       "min        0.000000      0.000000  \n",
       "25%        0.000000      0.000000  \n",
       "50%        0.000000      0.000000  \n",
       "75%        0.000000      0.000000  \n",
       "max        0.125000      0.090909  "
      ]
     },
     "execution_count": 43,
     "metadata": {},
     "output_type": "execute_result"
    }
   ],
   "source": [
    "X,y = df_scaled_fixed.iloc[:,:7], df2.iloc[:,-2] # df2.iloc[:,-1] 로 넣으면 기업분류별-기업규모별 분류가 됨\n",
    "X.describe()"
   ]
  },
  {
   "cell_type": "code",
   "execution_count": 44,
   "id": "e15e9038",
   "metadata": {},
   "outputs": [
    {
     "name": "stdout",
     "output_type": "stream",
     "text": [
      "0.42570579494799404\n",
      "평균정확도 = 0.42571, 표준편차 = 0.00\n"
     ]
    }
   ],
   "source": [
    "from sklearn.ensemble import RandomForestClassifier\n",
    "\n",
    "# step 2. 학습 데이터와 검증 데이터로 분리\n",
    "X_train, X_test, y_train, y_test = train_test_split(X, y, random_state=42)\n",
    "\n",
    "# step 3. 모델 생성\n",
    "model = RandomForestClassifier(max_depth=100, random_state=0)\n",
    "\n",
    "\n",
    "# step 4. 학습\n",
    "model.fit(X_train, y_train)\n",
    "\n",
    "\n",
    "# step 5. 평가\n",
    "pred  = model.predict(X_test)\n",
    "print(accuracy_score(y_test,pred)) \n",
    "score =model.score(X_test,y_test)\n",
    "print(f'평균정확도 = {score.mean():.5f}, 표준편차 = {score.std():.2f}')"
   ]
  },
  {
   "cell_type": "code",
   "execution_count": 45,
   "id": "0396fe68",
   "metadata": {},
   "outputs": [
    {
     "name": "stdout",
     "output_type": "stream",
     "text": [
      "0번째 교차 검증 정확도 : 0.3997524752475248 \n",
      "1번째 교차 검증 정확도 : 0.41955445544554454 \n",
      "2번째 교차 검증 정확도 : 0.4034653465346535 \n",
      "3번째 교차 검증 정확도 : 0.43866171003717475 \n",
      "4번째 교차 검증 정확도 : 0.4052044609665427 \n",
      "5번째 교차 검증 정확도 : 0.41511771995043373 \n",
      "6번째 교차 검증 정확도 : 0.3915737298636927 \n",
      "7번째 교차 검증 정확도 : 0.44114002478314746 \n",
      "8번째 교차 검증 정확도 : 0.41759603469640644 \n",
      "9번째 교차 검증 정확도 : 0.41511771995043373 \n",
      " 최종  교차 검증 정확도 : 0.4147183677475554 \n"
     ]
    }
   ],
   "source": [
    "# 분류 대상별 학습 크기가 랜덤\n",
    "from sklearn.model_selection import cross_val_score,KFold\n",
    "\n",
    "cv  = KFold(n_splits=10, shuffle=True, random_state=42)\n",
    "results = cross_val_score(model, X_train, y_train,cv=cv)\n",
    "fin_results =  np.mean(results)\n",
    "\n",
    "type(results)\n",
    "\n",
    "for i, _  in enumerate(results):\n",
    "    print('{}번째 교차 검증 정확도 : {} '.format(i,_))\n",
    "    \n",
    "\n",
    "print(' 최종  교차 검증 정확도 : {} '.format(fin_results))"
   ]
  },
  {
   "cell_type": "code",
   "execution_count": 46,
   "id": "5d033fb5",
   "metadata": {},
   "outputs": [
    {
     "name": "stdout",
     "output_type": "stream",
     "text": [
      "0번째 교차 검증 정확도 : 0.3873762376237624 \n",
      "1번째 교차 검증 정확도 : 0.4344059405940594 \n",
      "2번째 교차 검증 정확도 : 0.41089108910891087 \n",
      "3번째 교차 검증 정확도 : 0.3878562577447336 \n",
      "4번째 교차 검증 정확도 : 0.4275092936802974 \n",
      "5번째 교차 검증 정확도 : 0.4225526641883519 \n",
      "6번째 교차 검증 정확도 : 0.3667905824039653 \n",
      "7번째 교차 검증 정확도 : 0.42874845105328374 \n",
      "8번째 교차 검증 정확도 : 0.40148698884758366 \n",
      "9번째 교차 검증 정확도 : 0.4473358116480793 \n",
      " 최종  교차 검증 정확도 : 0.41149533168930275 \n"
     ]
    }
   ],
   "source": [
    "# 분류 대상별 학습 크기가 동일\n",
    "from sklearn.model_selection import cross_val_score,StratifiedKFold\n",
    "\n",
    "cv  = StratifiedKFold(n_splits=10, shuffle=True, random_state=42)\n",
    "results = cross_val_score(model, X_train, y_train,cv=cv)\n",
    "fin_results =  np.mean(results)\n",
    "\n",
    "type(results)\n",
    "\n",
    "for i, _  in enumerate(results):\n",
    "    print('{}번째 교차 검증 정확도 : {} '.format(i,_))\n",
    "    \n",
    "\n",
    "print(' 최종  교차 검증 정확도 : {} '.format(fin_results))"
   ]
  },
  {
   "cell_type": "code",
   "execution_count": 47,
   "id": "25539c2f",
   "metadata": {},
   "outputs": [
    {
     "data": {
      "image/png": "[encoded data removed]",
      "text/plain": [
       "<Figure size 1000x1000 with 1 Axes>"
      ]
     },
     "metadata": {},
     "output_type": "display_data"
    }
   ],
   "source": [
    "#!pip install scikit_plot\n",
    "import scikitplot as skplt\n",
    "skplt.estimators.plot_learning_curve(model, X_train, y_train,figsize=(10,10))\n",
    "plt.show()"
   ]
  },
  {
   "cell_type": "markdown",
   "id": "4679298f",
   "metadata": {},
   "source": [
    "#### 세부 파라미터 조절 (GridSearchCV, RandomSearchCV)를 통해 수치 조절\n",
    "- 또한 가능하다면, GridSearchCV, RandomSearchCV를 둘다 사용하고 둘중 무엇을 사용하는게 나은지도 설명\n",
    "        - GridSearchCV는 모든 경우의 수를 고려하여 정확도는 높으나 실행 속도가 느림\n",
    "        - RandomSearchCV는 일부만 뽑아 실행하여 실행속도가 빠름\n",
    "        \n",
    "        \n",
    "        - ex) 우리가 나중에 목표로 하는건 많은 사람에게 빠른속도로 서비스를 제공하는 것이므로 Random쪽이 적합하다\n",
    "        - ex) 우리가 최종적으로는 교육과정또한 추천하여 사람들이 적게는 1개월 많게는 6개월 이상의 시간을 투자하게 될텐데 오래걸려도 정확도가 높은쪽이 낫다고 판단된다."
   ]
  },
  {
   "cell_type": "code",
   "execution_count": 48,
   "id": "b5f9b2ef",
   "metadata": {},
   "outputs": [],
   "source": [
    "# 4. 하이퍼 파라미터 그리드 설정 \n",
    "\n",
    "param_grid = {\n",
    " 'n_estimators': [5, 10, 100, 100],\n",
    " 'criterion': ['gini', 'entropy', 'log_loss'], # 커널 함수의 폭 조절 -> 과소적합, 과대적합 발생하므로 교차검증 최적화\n",
    " 'max_depth': [10, 100, 1000],\n",
    " 'min_samples_split' : [2, 5, 10, 50, 100]\n",
    "}"
   ]
  },
  {
   "cell_type": "code",
   "execution_count": 49,
   "id": "2a7db247",
   "metadata": {},
   "outputs": [],
   "source": [
    "model = RandomForestClassifier()"
   ]
  },
  {
   "cell_type": "code",
   "execution_count": 50,
   "id": "0e6e806e",
   "metadata": {},
   "outputs": [
    {
     "data": {
      "text/html": [
       "<style>#sk-container-id-1 {color: black;}#sk-container-id-1 pre{padding: 0;}#sk-container-id-1 div.sk-toggleable {background-color: white;}#sk-container-id-1 label.sk-toggleable__label {cursor: pointer;display: block;width: 100%;margin-bottom: 0;padding: 0.3em;box-sizing: border-box;text-align: center;}#sk-container-id-1 label.sk-toggleable__label-arrow:before {content: \"▸\";float: left;margin-right: 0.25em;color: #696969;}#sk-container-id-1 label.sk-toggleable__label-arrow:hover:before {color: black;}#sk-container-id-1 div.sk-estimator:hover label.sk-toggleable__label-arrow:before {color: black;}#sk-container-id-1 div.sk-toggleable__content {max-height: 0;max-width: 0;overflow: hidden;text-align: left;background-color: #f0f8ff;}#sk-container-id-1 div.sk-toggleable__content pre {margin: 0.2em;color: black;border-radius: 0.25em;background-color: #f0f8ff;}#sk-container-id-1 input.sk-toggleable__control:checked~div.sk-toggleable__content {max-height: 200px;max-width: 100%;overflow: auto;}#sk-container-id-1 input.sk-toggleable__control:checked~label.sk-toggleable__label-arrow:before {content: \"▾\";}#sk-container-id-1 div.sk-estimator input.sk-toggleable__control:checked~label.sk-toggleable__label {background-color: #d4ebff;}#sk-container-id-1 div.sk-label input.sk-toggleable__control:checked~label.sk-toggleable__label {background-color: #d4ebff;}#sk-container-id-1 input.sk-hidden--visually {border: 0;clip: rect(1px 1px 1px 1px);clip: rect(1px, 1px, 1px, 1px);height: 1px;margin: -1px;overflow: hidden;padding: 0;position: absolute;width: 1px;}#sk-container-id-1 div.sk-estimator {font-family: monospace;background-color: #f0f8ff;border: 1px dotted black;border-radius: 0.25em;box-sizing: border-box;margin-bottom: 0.5em;}#sk-container-id-1 div.sk-estimator:hover {background-color: #d4ebff;}#sk-container-id-1 div.sk-parallel-item::after {content: \"\";width: 100%;border-bottom: 1px solid gray;flex-grow: 1;}#sk-container-id-1 div.sk-label:hover label.sk-toggleable__label {background-color: #d4ebff;}#sk-container-id-1 div.sk-serial::before {content: \"\";position: absolute;border-left: 1px solid gray;box-sizing: border-box;top: 0;bottom: 0;left: 50%;z-index: 0;}#sk-container-id-1 div.sk-serial {display: flex;flex-direction: column;align-items: center;background-color: white;padding-right: 0.2em;padding-left: 0.2em;position: relative;}#sk-container-id-1 div.sk-item {position: relative;z-index: 1;}#sk-container-id-1 div.sk-parallel {display: flex;align-items: stretch;justify-content: center;background-color: white;position: relative;}#sk-container-id-1 div.sk-item::before, #sk-container-id-1 div.sk-parallel-item::before {content: \"\";position: absolute;border-left: 1px solid gray;box-sizing: border-box;top: 0;bottom: 0;left: 50%;z-index: -1;}#sk-container-id-1 div.sk-parallel-item {display: flex;flex-direction: column;z-index: 1;position: relative;background-color: white;}#sk-container-id-1 div.sk-parallel-item:first-child::after {align-self: flex-end;width: 50%;}#sk-container-id-1 div.sk-parallel-item:last-child::after {align-self: flex-start;width: 50%;}#sk-container-id-1 div.sk-parallel-item:only-child::after {width: 0;}#sk-container-id-1 div.sk-dashed-wrapped {border: 1px dashed gray;margin: 0 0.4em 0.5em 0.4em;box-sizing: border-box;padding-bottom: 0.4em;background-color: white;}#sk-container-id-1 div.sk-label label {font-family: monospace;font-weight: bold;display: inline-block;line-height: 1.2em;}#sk-container-id-1 div.sk-label-container {text-align: center;}#sk-container-id-1 div.sk-container {/* jupyter's `normalize.less` sets `[hidden] { display: none; }` but bootstrap.min.css set `[hidden] { display: none !important; }` so we also need the `!important` here to be able to override the default hidden behavior on the sphinx rendered scikit-learn.org. See: https://github.com/scikit-learn/scikit-learn/issues/21755 */display: inline-block !important;position: relative;}#sk-container-id-1 div.sk-text-repr-fallback {display: none;}</style><div id=\"sk-container-id-1\" class=\"sk-top-container\"><div class=\"sk-text-repr-fallback\"><pre>GridSearchCV(cv=5, estimator=RandomForestClassifier(),\n",
       "             param_grid={&#x27;criterion&#x27;: [&#x27;gini&#x27;, &#x27;entropy&#x27;, &#x27;log_loss&#x27;],\n",
       "                         &#x27;max_depth&#x27;: [10, 100, 1000],\n",
       "                         &#x27;min_samples_split&#x27;: [2, 5, 10, 50, 100],\n",
       "                         &#x27;n_estimators&#x27;: [5, 10, 100, 100]})</pre><b>In a Jupyter environment, please rerun this cell to show the HTML representation or trust the notebook. <br />On GitHub, the HTML representation is unable to render, please try loading this page with nbviewer.org.</b></div><div class=\"sk-container\" hidden><div class=\"sk-item sk-dashed-wrapped\"><div class=\"sk-label-container\"><div class=\"sk-label sk-toggleable\"><input class=\"sk-toggleable__control sk-hidden--visually\" id=\"sk-estimator-id-1\" type=\"checkbox\" ><label for=\"sk-estimator-id-1\" class=\"sk-toggleable__label sk-toggleable__label-arrow\">GridSearchCV</label><div class=\"sk-toggleable__content\"><pre>GridSearchCV(cv=5, estimator=RandomForestClassifier(),\n",
       "             param_grid={&#x27;criterion&#x27;: [&#x27;gini&#x27;, &#x27;entropy&#x27;, &#x27;log_loss&#x27;],\n",
       "                         &#x27;max_depth&#x27;: [10, 100, 1000],\n",
       "                         &#x27;min_samples_split&#x27;: [2, 5, 10, 50, 100],\n",
       "                         &#x27;n_estimators&#x27;: [5, 10, 100, 100]})</pre></div></div></div><div class=\"sk-parallel\"><div class=\"sk-parallel-item\"><div class=\"sk-item\"><div class=\"sk-label-container\"><div class=\"sk-label sk-toggleable\"><input class=\"sk-toggleable__control sk-hidden--visually\" id=\"sk-estimator-id-2\" type=\"checkbox\" ><label for=\"sk-estimator-id-2\" class=\"sk-toggleable__label sk-toggleable__label-arrow\">estimator: RandomForestClassifier</label><div class=\"sk-toggleable__content\"><pre>RandomForestClassifier()</pre></div></div></div><div class=\"sk-serial\"><div class=\"sk-item\"><div class=\"sk-estimator sk-toggleable\"><input class=\"sk-toggleable__control sk-hidden--visually\" id=\"sk-estimator-id-3\" type=\"checkbox\" ><label for=\"sk-estimator-id-3\" class=\"sk-toggleable__label sk-toggleable__label-arrow\">RandomForestClassifier</label><div class=\"sk-toggleable__content\"><pre>RandomForestClassifier()</pre></div></div></div></div></div></div></div></div></div></div>"
      ],
      "text/plain": [
       "GridSearchCV(cv=5, estimator=RandomForestClassifier(),\n",
       "             param_grid={'criterion': ['gini', 'entropy', 'log_loss'],\n",
       "                         'max_depth': [10, 100, 1000],\n",
       "                         'min_samples_split': [2, 5, 10, 50, 100],\n",
       "                         'n_estimators': [5, 10, 100, 100]})"
      ]
     },
     "execution_count": 50,
     "metadata": {},
     "output_type": "execute_result"
    }
   ],
   "source": [
    "# 5. GridSearchCV 설정하고 탐색 수행\n",
    "from sklearn.model_selection import GridSearchCV\n",
    "grid_search = GridSearchCV(model, param_grid, cv = 5)\n",
    "# 6. 수행\n",
    "grid_search.fit(X_train, y_train)"
   ]
  },
  {
   "cell_type": "code",
   "execution_count": 51,
   "id": "776203fd",
   "metadata": {},
   "outputs": [
    {
     "name": "stdout",
     "output_type": "stream",
     "text": [
      "최적의 모델  :   RandomForestClassifier(criterion='log_loss', max_depth=1000,\n",
      "                       min_samples_split=50)\n",
      "최적의 파람  :   {'criterion': 'log_loss', 'max_depth': 1000, 'min_samples_split': 50, 'n_estimators': 100}\n",
      "최적의 점수  :   0.4430794787098953\n"
     ]
    }
   ],
   "source": [
    "# 7. 결과 출력(best_param, best_score)\n",
    "print( \"최적의 모델  :  \"  , grid_search.best_estimator_)\n",
    "print( \"최적의 파람  :  \"  , grid_search.best_params_)\n",
    "print( \"최적의 점수  :  \"  , grid_search.best_score_)"
   ]
  },
  {
   "cell_type": "code",
   "execution_count": 54,
   "id": "9c5562d0",
   "metadata": {},
   "outputs": [
    {
     "name": "stdout",
     "output_type": "stream",
     "text": [
      "최적의 모델  :   RandomForestClassifier(criterion='log_loss', max_depth=10, min_samples_split=5)\n",
      "최적의 파람  :   {'n_estimators': 100, 'min_samples_split': 5, 'max_depth': 10, 'criterion': 'log_loss'}\n",
      "최적의 점수  :   0.4429576346288858\n"
     ]
    }
   ],
   "source": [
    "# RandomizedSearchCV 작성\n",
    "from sklearn.model_selection import RandomizedSearchCV\n",
    "param_grid = {\n",
    " 'n_estimators': [5, 10, 100, 100],\n",
    " 'criterion': ['gini', 'entropy', 'log_loss'], \n",
    " 'max_depth': [10, 100, 1000],\n",
    " 'min_samples_split' : [2, 5, 10, 50, 100]\n",
    "}\n",
    "\n",
    "random_search= RandomizedSearchCV(model, param_grid,n_iter = 100, cv = 5, random_state = 2)\n",
    "random_search.fit(X_train, y_train)\n",
    "print( \"최적의 모델  :  \"  , random_search.best_estimator_)\n",
    "print( \"최적의 파람  :  \"  , random_search.best_params_)\n",
    "print( \"최적의 점수  :  \"  , random_search.best_score_)"
   ]
  },
  {
   "cell_type": "markdown",
   "id": "df1b8953",
   "metadata": {},
   "source": [
    "## 앙상블\n",
    "#### 각자 진행한 모델학습 취합"
   ]
  },
  {
   "cell_type": "markdown",
   "id": "844e16de",
   "metadata": {},
   "source": [
    "##  평가 (RUC/ 커브 그려서 정확도가 얼마나 되는지)\n",
    "### [11]ML 참고"
   ]
  },
  {
   "cell_type": "code",
   "execution_count": 55,
   "id": "656138dc",
   "metadata": {},
   "outputs": [
    {
     "name": "stdout",
     "output_type": "stream",
     "text": [
      "Accuracy : 0.449851411589896\n"
     ]
    }
   ],
   "source": [
    "from sklearn.metrics import accuracy_score\n",
    "\n",
    "pred = random_search.predict(X_test)\n",
    "acc = accuracy_score(y_test, pred)\n",
    "print('Accuracy :',acc)"
   ]
  },
  {
   "cell_type": "code",
   "execution_count": 56,
   "id": "6d0e5a8b",
   "metadata": {},
   "outputs": [
    {
     "name": "stdout",
     "output_type": "stream",
     "text": [
      "confusion_matrix :\n",
      "\n",
      " [[686 278   1  22]\n",
      " [433 472   3  39]\n",
      " [101  66  18   9]\n",
      " [227 300   2  35]]\n"
     ]
    }
   ],
   "source": [
    "from sklearn.metrics import confusion_matrix\n",
    "pred = random_search.predict(X_test)\n",
    "\n",
    "#실제, 예측\n",
    "cm =confusion_matrix(y_test, pred) \n",
    "print('confusion_matrix :\\n\\n' , cm )"
   ]
  },
  {
   "cell_type": "code",
   "execution_count": 57,
   "id": "aab0fc65",
   "metadata": {},
   "outputs": [
    {
     "data": {
      "image/png": "[encoded data removed]",
      "text/plain": [
       "<Figure size 800x600 with 2 Axes>"
      ]
     },
     "metadata": {},
     "output_type": "display_data"
    }
   ],
   "source": [
    "skplt.metrics.plot_confusion_matrix(y_test, pred, figsize = (8,6)) \n",
    "plt.show()"
   ]
  },
  {
   "cell_type": "code",
   "execution_count": 59,
   "id": "278e0461",
   "metadata": {},
   "outputs": [
    {
     "name": "stdout",
     "output_type": "stream",
     "text": [
      "대기업의 정밀도 : 0.47408431237042153\n",
      "중견기업의 정밀도 : 0.4229390681003584\n",
      "공기업의 정밀도 : 0.75\n",
      "중소기업의 정밀도 : 0.3333333333333333\n"
     ]
    }
   ],
   "source": [
    "#4-1 정밀도 구하기 \n",
    "# 다중분류일 경우에는 average= None \n",
    "# 기본값은  average= binary \n",
    "from sklearn.metrics import precision_score \n",
    "\n",
    "pre  = precision_score( y_test, random_search.predict(X_test) , average= None)\n",
    "\n",
    "for target,score  in zip(['대기업', '중견기업', '공기업', '중소기업'], pre):\n",
    "    print(f\"{target}의 정밀도 : {score}\")\n"
   ]
  },
  {
   "cell_type": "code",
   "execution_count": 60,
   "id": "feae747d",
   "metadata": {},
   "outputs": [
    {
     "name": "stdout",
     "output_type": "stream",
     "text": [
      "대기업의 재현률 : 0.6950354609929078\n",
      "중견기업의 재현률 : 0.498416050686378\n",
      "공기업의 재현률 : 0.09278350515463918\n",
      "중소기업의 재현률 : 0.06205673758865248\n"
     ]
    }
   ],
   "source": [
    "#4-2 재현율을 구하자.  recall_score: 실제 타켓 클래스 중에 예측이 맞는 비율이다. = 민감도  \n",
    " #tp / (tp + fn)\n",
    "from sklearn.metrics import recall_score\n",
    "\n",
    "recall  = recall_score( y_test, random_search.predict(X_test) , average= None)\n",
    "\n",
    "for target,score  in zip(['대기업', '중견기업', '공기업', '중소기업'], recall):\n",
    "    print(f\"{target}의 재현률 : {score}\")"
   ]
  },
  {
   "cell_type": "code",
   "execution_count": 61,
   "id": "1f23690f",
   "metadata": {},
   "outputs": [
    {
     "name": "stdout",
     "output_type": "stream",
     "text": [
      "대기업의 F : 0.5636811832374692\n",
      "중견기업의 F : 0.45758603974793993\n",
      "공기업의 F : 0.1651376146788991\n",
      "중소기업의 F : 0.10463378176382661\n"
     ]
    }
   ],
   "source": [
    "\n",
    "from sklearn.metrics import f1_score\n",
    "\n",
    "f1  = f1_score( y_test, random_search.predict(X_test) , average= None)\n",
    "\n",
    "for target,score  in zip(['대기업', '중견기업', '공기업', '중소기업'], f1):\n",
    "    print(f\"{target}의 F : {score}\")"
   ]
  },
  {
   "cell_type": "code",
   "execution_count": 62,
   "id": "96cf11f7",
   "metadata": {},
   "outputs": [
    {
     "name": "stdout",
     "output_type": "stream",
     "text": [
      "확률 값의 형태: (2692, 4)\n",
      "합: [1. 1. 1. 1. 1.]\n"
     ]
    }
   ],
   "source": [
    " # 각 클래스에 대한 확률/ 클래스에  대한 출력은 0과 1사이의 값 , 클래스의 합은  1이다.\n",
    "proba =random_search.predict_proba(X_test) \n",
    "print(\"확률 값의 형태: {}\".format(proba.shape)) \n",
    "\n",
    "#print(proba) #->예측확률\n",
    "\n",
    "print(\"합: {}\".format(random_search.predict_proba(X_test)[:5].sum(axis=1))) #행방향으로 합을 구하면 1이 된다.\n",
    "\n",
    "#skplt.metrics.plot_roc(y_test,proba, figsize=(8,6))\n",
    "#plt.show()"
   ]
  },
  {
   "cell_type": "code",
   "execution_count": 63,
   "id": "72cf9100",
   "metadata": {},
   "outputs": [
    {
     "data": {
      "image/png": "[encoded data removed]",
      "text/plain": [
       "<Figure size 800x600 with 1 Axes>"
      ]
     },
     "metadata": {},
     "output_type": "display_data"
    }
   ],
   "source": [
    "skplt.metrics.plot_roc(y_test,proba, figsize=(8,6))\n",
    "plt.show()"
   ]
  },
  {
   "cell_type": "code",
   "execution_count": null,
   "id": "59d5561a",
   "metadata": {},
   "outputs": [],
   "source": []
  }
 ],
 "metadata": {
  "kernelspec": {
   "display_name": "Python 3 (ipykernel)",
   "language": "python",
   "name": "python3"
  },
  "language_info": {
   "codemirror_mode": {
    "name": "ipython",
    "version": 3
   },
   "file_extension": ".py",
   "mimetype": "text/x-python",
   "name": "python",
   "nbconvert_exporter": "python",
   "pygments_lexer": "ipython3",
   "version": "3.11.5"
  }
 },
 "nbformat": 4,
 "nbformat_minor": 5
}
